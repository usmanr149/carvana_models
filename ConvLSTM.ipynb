{
 "cells": [
  {
   "cell_type": "code",
   "execution_count": 3,
   "metadata": {},
   "outputs": [],
   "source": [
    "import numpy as np\n",
    "\n",
    "from tensorflow.keras.models import *\n",
    "from tensorflow.keras.layers import *\n",
    "from tensorflow.keras.optimizers import *\n",
    "from tensorflow.keras.callbacks import ModelCheckpoint, LearningRateScheduler\n",
    "from tensorflow import keras"
   ]
  },
  {
   "cell_type": "code",
   "execution_count": 48,
   "metadata": {},
   "outputs": [],
   "source": [
    "def convLSTM(input_img):\n",
    "    convLSTM1 = ConvLSTM2D(filters=128, kernel_size=(3, 3),\n",
    "                   padding='same', data_format='channels_last', return_sequences=True, \n",
    "                           activation='relu')(input_img)\n",
    "    \n",
    "    convtd1 = TimeDistributed((Conv2D(128, kernel_size=3, padding = \"same\", activation = 'relu')))(convLSTM1)\n",
    "    \n",
    "    mptd1 = TimeDistributed(MaxPooling2D((2, 2), (2, 2)))(convtd1)\n",
    "    \n",
    "    convLSTM2 = ConvLSTM2D(filters=256, kernel_size=(3, 3),\n",
    "                   padding='same', data_format='channels_last', return_sequences=True, \n",
    "                           activation='relu')(mptd1)\n",
    "    \n",
    "    convtd2 = TimeDistributed((Conv2D(256, kernel_size=3, padding = \"same\", activation = 'relu')))(convLSTM2)\n",
    "    \n",
    "    mptd2 = TimeDistributed(MaxPooling2D((2, 2), (2, 2)))(convtd2)\n",
    "    \n",
    "    convtd3 = TimeDistributed(Conv2D(512, kernel_size=3, activation = 'relu', \n",
    "                                       padding = 'same', kernel_initializer = 'he_normal') )(mptd2)\n",
    "    convtd4 = TimeDistributed(Conv2D(512, kernel_size=3, activation = 'relu', \n",
    "                                       padding = 'same', kernel_initializer = 'he_normal') )(convtd3)\n",
    "    \n",
    "    \n",
    "    upconvtd1 = TimeDistributed(Conv2DTranspose(256, kernel_size=2, strides=2, \n",
    "                                                padding='same',kernel_initializer = 'he_normal'))(convtd4)\n",
    "    \n",
    "    # concatenate convtd4\n",
    "    merge1 = concatenate([convtd2, upconvtd1]) # 512 kernel\n",
    "    \n",
    "    convtd5 = TimeDistributed(Conv2D(256, kernel_size=3, activation = 'relu', \n",
    "                                       padding = 'same', kernel_initializer = 'he_normal') )(merge1)\n",
    "    convtd6 = TimeDistributed(Conv2D(256, kernel_size=3, activation = 'relu', \n",
    "                                       padding = 'same', kernel_initializer = 'he_normal') )(convtd5)\n",
    "    \n",
    "    upconvtd2 = TimeDistributed(Conv2DTranspose(128, kernel_size=2, strides=2, \n",
    "                                        padding='same',kernel_initializer = 'he_normal'))(convtd6)\n",
    "    \n",
    "    # concatenate convtd2\n",
    "    merge2 = concatenate([convtd1, upconvtd2])\n",
    "    \n",
    "    convtd7 = TimeDistributed(Conv2D(128, kernel_size=3, activation = 'relu', \n",
    "                                       padding = 'same', kernel_initializer = 'he_normal') )(merge2)\n",
    "    convtd8 = TimeDistributed(Conv2D(128, kernel_size=3, activation = 'relu', \n",
    "                                       padding = 'same', kernel_initializer = 'he_normal') )(convtd7)\n",
    "    \n",
    "    convtd9 = TimeDistributed(Conv2D(1, kernel_size=3, activation = 'sigmoid', \n",
    "                                       padding = 'same', kernel_initializer = 'he_normal') )(convtd8)\n",
    "    \n",
    "    return convtd9"
   ]
  },
  {
   "cell_type": "code",
   "execution_count": 49,
   "metadata": {},
   "outputs": [],
   "source": [
    "input_img = Input(shape = (16, 128, 128, 3))\n",
    "\n",
    "autoencoder = Model(input_img, convLSTM(input_img))\n",
    "\n",
    "# autoencoder.compile(loss=keras.losses.binary_crossentropy, optimizer='adam')"
   ]
  },
  {
   "cell_type": "code",
   "execution_count": 50,
   "metadata": {},
   "outputs": [
    {
     "name": "stdout",
     "output_type": "stream",
     "text": [
      "Model: \"model_10\"\n",
      "__________________________________________________________________________________________________\n",
      "Layer (type)                    Output Shape         Param #     Connected to                     \n",
      "==================================================================================================\n",
      "input_18 (InputLayer)           [(None, 16, 128, 128 0                                            \n",
      "__________________________________________________________________________________________________\n",
      "conv_lst_m2d_34 (ConvLSTM2D)    (None, 16, 128, 128, 604160      input_18[0][0]                   \n",
      "__________________________________________________________________________________________________\n",
      "time_distributed_164 (TimeDistr (None, 16, 128, 128, 147584      conv_lst_m2d_34[0][0]            \n",
      "__________________________________________________________________________________________________\n",
      "time_distributed_165 (TimeDistr (None, 16, 64, 64, 1 0           time_distributed_164[0][0]       \n",
      "__________________________________________________________________________________________________\n",
      "conv_lst_m2d_35 (ConvLSTM2D)    (None, 16, 64, 64, 2 3539968     time_distributed_165[0][0]       \n",
      "__________________________________________________________________________________________________\n",
      "time_distributed_166 (TimeDistr (None, 16, 64, 64, 2 590080      conv_lst_m2d_35[0][0]            \n",
      "__________________________________________________________________________________________________\n",
      "time_distributed_167 (TimeDistr (None, 16, 32, 32, 2 0           time_distributed_166[0][0]       \n",
      "__________________________________________________________________________________________________\n",
      "time_distributed_168 (TimeDistr (None, 16, 32, 32, 5 1180160     time_distributed_167[0][0]       \n",
      "__________________________________________________________________________________________________\n",
      "time_distributed_169 (TimeDistr (None, 16, 32, 32, 5 2359808     time_distributed_168[0][0]       \n",
      "__________________________________________________________________________________________________\n",
      "time_distributed_170 (TimeDistr (None, 16, 64, 64, 2 524544      time_distributed_169[0][0]       \n",
      "__________________________________________________________________________________________________\n",
      "concatenate_12 (Concatenate)    (None, 16, 64, 64, 5 0           time_distributed_166[0][0]       \n",
      "                                                                 time_distributed_170[0][0]       \n",
      "__________________________________________________________________________________________________\n",
      "time_distributed_171 (TimeDistr (None, 16, 64, 64, 2 1179904     concatenate_12[0][0]             \n",
      "__________________________________________________________________________________________________\n",
      "time_distributed_172 (TimeDistr (None, 16, 64, 64, 2 590080      time_distributed_171[0][0]       \n",
      "__________________________________________________________________________________________________\n",
      "time_distributed_173 (TimeDistr (None, 16, 128, 128, 131200      time_distributed_172[0][0]       \n",
      "__________________________________________________________________________________________________\n",
      "concatenate_13 (Concatenate)    (None, 16, 128, 128, 0           time_distributed_164[0][0]       \n",
      "                                                                 time_distributed_173[0][0]       \n",
      "__________________________________________________________________________________________________\n",
      "time_distributed_174 (TimeDistr (None, 16, 128, 128, 295040      concatenate_13[0][0]             \n",
      "__________________________________________________________________________________________________\n",
      "time_distributed_175 (TimeDistr (None, 16, 128, 128, 147584      time_distributed_174[0][0]       \n",
      "__________________________________________________________________________________________________\n",
      "time_distributed_176 (TimeDistr (None, 16, 128, 128, 1153        time_distributed_175[0][0]       \n",
      "==================================================================================================\n",
      "Total params: 11,291,265\n",
      "Trainable params: 11,291,265\n",
      "Non-trainable params: 0\n",
      "__________________________________________________________________________________________________\n"
     ]
    }
   ],
   "source": [
    "autoencoder.summary()"
   ]
  },
  {
   "cell_type": "code",
   "execution_count": null,
   "metadata": {},
   "outputs": [],
   "source": []
  }
 ],
 "metadata": {
  "kernelspec": {
   "display_name": "YOLO",
   "language": "python",
   "name": "yolo"
  },
  "language_info": {
   "codemirror_mode": {
    "name": "ipython",
    "version": 3
   },
   "file_extension": ".py",
   "mimetype": "text/x-python",
   "name": "python",
   "nbconvert_exporter": "python",
   "pygments_lexer": "ipython3",
   "version": "3.6.9"
  }
 },
 "nbformat": 4,
 "nbformat_minor": 2
}
