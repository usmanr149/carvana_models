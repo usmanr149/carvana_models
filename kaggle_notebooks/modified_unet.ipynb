{
 "cells": [
  {
   "cell_type": "code",
   "execution_count": 1,
   "metadata": {
    "_cell_guid": "b1076dfc-b9ad-4769-8c92-a6c4dae69d19",
    "_uuid": "8f2839f25d086af736a60e9eeb907d3b93b6e0e5"
   },
   "outputs": [
    {
     "name": "stdout",
     "output_type": "stream",
     "text": [
      "/kaggle/input/unet-model/unet_5_iter_binary_loss.h5\n",
      "/kaggle/input/carvana-image-masking-challenge/train_hq.zip\n",
      "/kaggle/input/carvana-image-masking-challenge/sample_submission.csv.zip\n",
      "/kaggle/input/carvana-image-masking-challenge/metadata.csv.zip\n",
      "/kaggle/input/carvana-image-masking-challenge/test_hq.zip\n",
      "/kaggle/input/carvana-image-masking-challenge/train_masks.zip\n",
      "/kaggle/input/carvana-image-masking-challenge/29bb3ece3180_11.jpg\n",
      "/kaggle/input/carvana-image-masking-challenge/test.zip\n",
      "/kaggle/input/carvana-image-masking-challenge/train_masks.csv.zip\n",
      "/kaggle/input/carvana-image-masking-challenge/train.zip\n"
     ]
    }
   ],
   "source": [
    "# This Python 3 environment comes with many helpful analytics libraries installed\n",
    "# It is defined by the kaggle/python docker image: https://github.com/kaggle/docker-python\n",
    "# For example, here's several helpful packages to load in \n",
    "\n",
    "import numpy as np # linear algebra\n",
    "import pandas as pd # data processing, CSV file I/O (e.g. pd.read_csv)\n",
    "\n",
    "# Input data files are available in the \"../input/\" directory.\n",
    "# For example, running this (by clicking run or pressing Shift+Enter) will list all files under the input directory\n",
    "\n",
    "import os\n",
    "for dirname, _, filenames in os.walk('/kaggle/input'):\n",
    "    for filename in filenames:\n",
    "        print(os.path.join(dirname, filename))\n",
    "\n",
    "# Any results you write to the current directory are saved as output."
   ]
  },
  {
   "cell_type": "code",
   "execution_count": 2,
   "metadata": {
    "_cell_guid": "79c7e3d0-c299-4dcb-8224-4455121ee9b0",
    "_uuid": "d629ff2d2480ee46fbb7e2d37f6b5fab8052498a"
   },
   "outputs": [],
   "source": [
    "import zipfile\n",
    "from skimage.util import random_noise"
   ]
  },
  {
   "cell_type": "code",
   "execution_count": 3,
   "metadata": {},
   "outputs": [],
   "source": [
    "DATA_PATH = '../input/carvana-image-masking-challenge/'\n",
    "# Will unzip the files so that you can see them..\n",
    "with zipfile.ZipFile(DATA_PATH + \"train_masks.csv.zip\",\"r\") as z:\n",
    "    z.extractall(\".\")"
   ]
  },
  {
   "cell_type": "code",
   "execution_count": 4,
   "metadata": {},
   "outputs": [],
   "source": [
    "# Will unzip the files so that you can see them..\n",
    "with zipfile.ZipFile(DATA_PATH + \"train.zip\",\"r\") as z:\n",
    "    z.extractall(\".\")"
   ]
  },
  {
   "cell_type": "code",
   "execution_count": 5,
   "metadata": {},
   "outputs": [],
   "source": [
    "# Will unzip the files so that you can see them..\n",
    "with zipfile.ZipFile(DATA_PATH + \"train_masks.zip\",\"r\") as z:\n",
    "    z.extractall(\".\")"
   ]
  },
  {
   "cell_type": "code",
   "execution_count": 6,
   "metadata": {},
   "outputs": [],
   "source": [
    "import os \n",
    "from glob import glob\n",
    "\n",
    "INPUT_PATH = '.'\n",
    "DATA_PATH = INPUT_PATH\n",
    "TRAIN_DATA = os.path.join(DATA_PATH, \"train\")\n",
    "TRAIN_MASKS_DATA = os.path.join(DATA_PATH, \"train_masks\")\n",
    "# TEST_DATA = os.path.join(DATA_PATH, \"test\")\n",
    "# TRAIN_MASKS_CSV_FILEPATH = os.path.join(DATA_PATH, \"train_masks.csv\")\n",
    "# METADATA_CSV_FILEPATH = os.path.join(DATA_PATH, \"metadata.csv\")\n",
    "\n",
    "# TRAIN_MASKS_CSV = pd.read_csv(TRAIN_MASKS_CSV_FILEPATH)\n",
    "# METADATA_CSV = pd.read_csv(METADATA_CSV_FILEPATH)"
   ]
  },
  {
   "cell_type": "code",
   "execution_count": 7,
   "metadata": {},
   "outputs": [],
   "source": [
    "# random module is imported \n",
    "import random\n",
    "\n",
    "random.seed(33)\n",
    "\n",
    "train_files = np.array(glob(os.path.join(TRAIN_DATA, \"*.jpg\")))\n",
    "train_ids = np.array([s[len(TRAIN_DATA)+1:-4] for s in train_files])\n",
    "\n",
    "size_ = len(train_ids)\n",
    "indices = np.random.permutation(size_)\n",
    "\n",
    "train_indices = indices[:int(0.8*size_)]\n",
    "# train_indices = indices[:500]\n",
    "test_indices = indices[int(0.8*size_):]"
   ]
  },
  {
   "cell_type": "code",
   "execution_count": 8,
   "metadata": {},
   "outputs": [],
   "source": [
    "train_files, train_ids, test_files, test_ids = train_files[train_indices], train_ids[train_indices], train_files[test_indices], train_ids[test_indices]"
   ]
  },
  {
   "cell_type": "code",
   "execution_count": 9,
   "metadata": {},
   "outputs": [],
   "source": [
    "def get_filename(image_id, image_type):\n",
    "    check_dir = False\n",
    "    if \"Train\" == image_type:\n",
    "        ext = 'jpg'\n",
    "        data_path = TRAIN_DATA\n",
    "        suffix = ''\n",
    "    elif \"Train_mask\" in image_type:\n",
    "        ext = 'gif'\n",
    "        data_path = TRAIN_MASKS_DATA\n",
    "        suffix = '_mask'\n",
    "    elif \"Test\" in image_type:\n",
    "        ext = 'jpg'\n",
    "        data_path = TEST_DATA\n",
    "        suffix = ''\n",
    "    else:\n",
    "        raise Exception(\"Image type '%s' is not recognized\" % image_type)\n",
    "\n",
    "    if check_dir and not os.path.exists(data_path):\n",
    "        os.makedirs(data_path)\n",
    "\n",
    "    return os.path.join(data_path, \"{}{}.{}\".format(image_id, suffix, ext))"
   ]
  },
  {
   "cell_type": "code",
   "execution_count": 10,
   "metadata": {},
   "outputs": [],
   "source": [
    "image_size = (128,128)"
   ]
  },
  {
   "cell_type": "code",
   "execution_count": 11,
   "metadata": {},
   "outputs": [],
   "source": [
    "import cv2\n",
    "from PIL import Image\n",
    "\n",
    "def mean_shift(input_img):\n",
    "    # Shape of original image\n",
    "    originShape = input_img.shape\n",
    "    # Converting image into array of dimension [nb of pixels in originImage, 3]\n",
    "    # based on r g b intensities    \n",
    "    flatImg=np.reshape(input_img, [-1, 3])\n",
    "\n",
    "\n",
    "    # Estimate bandwidth for meanshift algorithm    \n",
    "    bandwidth = estimate_bandwidth(flatImg, quantile=0.1, n_samples=50)    \n",
    "    ms = MeanShift(bandwidth = bandwidth, bin_seeding=True)\n",
    "\n",
    "    # Performing meanshift on flatImg    \n",
    "    ms.fit(flatImg)\n",
    "\n",
    "    # (r,g,b) vectors corresponding to the different clusters after meanshift    \n",
    "    labels=ms.labels_\n",
    "    \n",
    "    # Remaining colors after meanshift    \n",
    "    cluster_centers = ms.cluster_centers_    \n",
    "\n",
    "    # Finding and diplaying the number of clusters    \n",
    "    labels_unique = np.unique(labels)    \n",
    "    n_clusters_ = len(labels_unique)\n",
    "    \n",
    "    return np.reshape(labels, (*input_img.shape[:2], 1))\n",
    "\n",
    "\n",
    "def get_image_data(image_id, image_type, **kwargs):\n",
    "    if 'mask' in image_type:\n",
    "        img = _get_image_data_pil(image_id, image_type, **kwargs)\n",
    "    else:\n",
    "        img = _get_image_data_opencv(image_id, image_type, **kwargs)\n",
    "    return img\n",
    "\n",
    "def _get_image_data_opencv(image_id, image_type, **kwargs):\n",
    "    fname = get_filename(image_id, image_type)\n",
    "    img = cv2.imread(fname)\n",
    "    assert img is not None, \"Failed to read image : %s, %s\" % (image_id, image_type)\n",
    "    img = cv2.cvtColor(img, cv2.COLOR_BGR2RGB)\n",
    "    if True:\n",
    "        img = cv2.resize(img, image_size)\n",
    "        # Add salt-and-pepper noise to the image.\n",
    "#         img = random_noise(img, mode='s&p',amount=0.2)\n",
    "    return img/np.max(img)\n",
    "\n",
    "\n",
    "def _get_image_data_pil(image_id, image_type, return_exif_md=False, return_shape_only=False):\n",
    "    fname = get_filename(image_id, image_type)\n",
    "    try:\n",
    "        img_pil = Image.open(fname)\n",
    "    except Exception as e:\n",
    "        assert False, \"Failed to read image : %s, %s. Error message: %s\" % (image_id, image_type, e)\n",
    "\n",
    "    if return_shape_only:\n",
    "        return img_pil.size[::-1] + (len(img_pil.getbands()),)\n",
    "    if True:\n",
    "#         img_pil = img_pil.resize((388, 388))\n",
    "        img_pil = img_pil.resize(image_size)\n",
    "    img = np.asarray(img_pil)\n",
    "    assert isinstance(img, np.ndarray), \"Open image is not an ndarray. Image id/type : %s, %s\" % (image_id, image_type)\n",
    "    if not return_exif_md:\n",
    "        return img\n",
    "    else:\n",
    "        return img, img_pil._getexif()"
   ]
  },
  {
   "cell_type": "code",
   "execution_count": 12,
   "metadata": {},
   "outputs": [],
   "source": [
    "import matplotlib.pylab as plt"
   ]
  },
  {
   "cell_type": "code",
   "execution_count": 13,
   "metadata": {},
   "outputs": [],
   "source": [
    "from tensorflow import keras\n",
    "\n",
    "from tensorflow.keras.models import *\n",
    "from tensorflow.keras.layers import *\n",
    "from tensorflow.keras.optimizers import *\n",
    "\n",
    "import tensorflow as tf\n",
    "\n",
    "%matplotlib inline"
   ]
  },
  {
   "cell_type": "code",
   "execution_count": 14,
   "metadata": {},
   "outputs": [],
   "source": [
    "class DataGenerator(keras.utils.Sequence):\n",
    "    'Generates data for Keras'\n",
    "    def __init__(self, list_IDs, batch_size=32, dim=(32,32,32), n_channels=1, \n",
    "                 shuffle=True, image_type='Train', mask_image_type='Train_mask'):\n",
    "        'Initialization'\n",
    "        self.dim = dim\n",
    "        self.batch_size = batch_size\n",
    "        self.list_IDs = list_IDs\n",
    "        self.n_channels = n_channels\n",
    "        self.shuffle = shuffle\n",
    "        self.on_epoch_end()\n",
    "        self.image_type = image_type\n",
    "        self.mask_image_type = mask_image_type\n",
    "        \n",
    "    def __len__(self):\n",
    "        'Denotes the number of batches per epoch'\n",
    "        return int(np.floor(len(self.list_IDs) / self.batch_size))\n",
    "    \n",
    "    def __getitem__(self, index):\n",
    "        'Generate one batch of data'\n",
    "        # Generate indexes of the batch\n",
    "        indexes = self.indexes[index*self.batch_size:(index+1)*self.batch_size]\n",
    "\n",
    "        # Find list of IDs\n",
    "        list_IDs_temp = [self.list_IDs[k] for k in indexes]\n",
    "\n",
    "        # Generate data\n",
    "        X, y = self.__data_generation(list_IDs_temp)\n",
    "\n",
    "        return X, y\n",
    "\n",
    "    def on_epoch_end(self):\n",
    "        'Updates indexes after each epoch'\n",
    "        self.indexes = np.arange(len(self.list_IDs))\n",
    "        if self.shuffle == True:\n",
    "            np.random.shuffle(self.indexes)\n",
    "\n",
    "    def __data_generation(self, list_IDs_temp):\n",
    "        'Generates data containing batch_size samples' # X : (n_samples, *dim, n_channels)\n",
    "        # Initialization\n",
    "        X = np.empty((self.batch_size, *self.dim, self.n_channels))\n",
    "        y = np.empty((self.batch_size, *self.dim))\n",
    "#         y = np.empty((self.batch_size, 388, 388))\n",
    "        \n",
    "        # Generate data\n",
    "        for i, ID in enumerate(list_IDs_temp):\n",
    "            # Store sample\n",
    "            X[i,] = get_image_data(ID, self.image_type)\n",
    "            y[i,] = get_image_data(ID, self.mask_image_type)\n",
    "        \n",
    "        return X, y"
   ]
  },
  {
   "cell_type": "code",
   "execution_count": 15,
   "metadata": {},
   "outputs": [],
   "source": [
    "# Parameters\n",
    "params = {'dim': image_size,\n",
    "          'batch_size': 2,\n",
    "          'n_channels': 3,\n",
    "          'shuffle': True}\n",
    "\n",
    "# Generators\n",
    "training_generator = DataGenerator(train_ids, **params)\n",
    "validation_generator = DataGenerator(test_ids, **params)"
   ]
  },
  {
   "cell_type": "code",
   "execution_count": 23,
   "metadata": {},
   "outputs": [],
   "source": [
    "def unet(input_img):\n",
    "    # padding = 0 , stride = 1\n",
    "    # input image = 576*576\n",
    "    c1 = Conv2D(filters=64, kernel_size=(3,3), activation='relu', padding='same')(input_img) #576*576\n",
    "    c2 = Conv2D(filters=64, kernel_size=(3,3), activation='relu', padding='same')(c1) # 576*576\n",
    "    mp1 = MaxPool2D(pool_size=(2,2))(c2) # 288*288\n",
    "    c3 = Conv2D(filters=128, kernel_size=(3,3), activation='relu', padding='same')(mp1) # 288*288\n",
    "    c4 = Conv2D(filters=128, kernel_size=(3,3), activation='relu', padding='same')(c3) # 288*288\n",
    "    mp2 = MaxPool2D(pool_size=(2,2))(c4) # 144*144\n",
    "    c5 = Conv2D(filters=256, kernel_size=(3,3), activation='relu', padding='same')(mp2) # 144*144\n",
    "    c6 = Conv2D(filters=256, kernel_size=(3,3), activation='relu', padding='same')(c5) # 144*144\n",
    "    mp3 = MaxPool2D(pool_size=(2,2))(c6) # 72*72\n",
    "    c7 = Conv2D(filters=512, kernel_size=(3,3), activation='relu', padding='same')(mp3) # 72*72\n",
    "    c8 = Conv2D(filters=512, kernel_size=(3,3), activation='relu', padding='same')(c7) # 72*72\n",
    "    mp4 = MaxPool2D(pool_size=(2,2))(c8) # 36*36\n",
    "    dr1 = Dropout(rate=0.3)(mp4)\n",
    "    c9 = Conv2D(filters=1024, kernel_size=(3,3), activation='relu', padding='same')(dr1) # 36*36\n",
    "    c10 = Conv2D(filters=1024, kernel_size=(3,3), activation='relu', padding='same')(c9) # 36*36\n",
    "    \n",
    "    #upsampling followed by a 2x2 convolution\n",
    "#     up1 = UpSampling2D(size=(2,2))(c10) # 56*56\n",
    "    # up convolve\n",
    "    up1 = Conv2DTranspose(512, (2,2), strides=(2,2), padding='valid', activation='relu')(c10)    # 72*72 concatenate c8\n",
    "    merge1 = concatenate([c8, up1]) # 72*72\n",
    "    c11 = Conv2D(filters=512, kernel_size=(3,3), activation='relu', padding='same')(merge1) # 72*72\n",
    "    c12 = Conv2D(filters=512, kernel_size=(3,3), activation='relu', padding='same')(c11) # 72*72\n",
    "#     up2 = UpSampling2D(size=(2,2))(c12) # 104*104\n",
    "    up2 = Conv2DTranspose(256, (2,2), strides=(2,2), padding='valid', activation='relu')(c12) # 144*144\n",
    "\n",
    "    # concatenate c6\n",
    "    merge2 = concatenate([c6, up2]) # 144*144\n",
    "    c13 = Conv2D(filters=256, kernel_size=(3,3), activation='relu', padding='same')(merge2) # 144*144\n",
    "    c14 = Conv2D(filters=256, kernel_size=(3,3), activation='relu', padding='same')(c13) # 144*144\n",
    "    up3 = Conv2DTranspose(128, (2,2), strides=(2,2), padding='valid', activation='relu')(c14) # 288*288\n",
    "#     # concatenate c4\n",
    "    merge3 = concatenate([c4, up3])\n",
    "    c15 = Conv2D(filters=128, kernel_size=(3,3), activation='relu', padding='same')(merge3) # 288*288\n",
    "    c16 = Conv2D(filters=128, kernel_size=(3,3), activation='relu', padding='same')(c15) # 288*288\n",
    "    up4 = Conv2DTranspose(64, (2,2), strides=(2,2), padding='valid', activation='relu')(c16) # 576*576\n",
    "#     # conctenate c2\n",
    "    merge4 = concatenate([c2, up4]) # 576*576\n",
    "    c17 = Conv2D(filters=64, kernel_size=(3,3), activation='relu', padding='same')(merge4) # 576*576\n",
    "    c18 = Conv2D(filters=64, kernel_size=(3,3), activation='relu', padding='same')(c17) # 576*576\n",
    "    # filters here need to be the nu,ber of classes\n",
    "    c19 = Conv2D(filters=1, kernel_size=(1,1), padding='same', activation='sigmoid')(c18) # 576*576\n",
    "    \n",
    "    return c19"
   ]
  },
  {
   "cell_type": "code",
   "execution_count": 24,
   "metadata": {},
   "outputs": [],
   "source": [
    "input_img = Input(shape = (*params['dim'], params['n_channels']))\n",
    "\n",
    "def dice_loss(y_true, y_pred):\n",
    "    numerator = 2 * tf.reduce_sum(y_true * y_pred, axis=-1)\n",
    "    denominator = tf.reduce_sum(y_true + y_pred, axis=-1)\n",
    "\n",
    "    return (numerator + 1) / (denominator + 1)\n",
    "\n",
    "autoencoder = Model(input_img, unet(input_img))\n",
    "autoencoder.compile(loss=keras.losses.binary_crossentropy, metrics=[dice_loss, keras.losses.binary_crossentropy], optimizer='adam')\n",
    "# autoencoder.compile(loss=keras.losses.binary_crossentropy, optimizer='adam')"
   ]
  },
  {
   "cell_type": "code",
   "execution_count": 25,
   "metadata": {},
   "outputs": [
    {
     "name": "stdout",
     "output_type": "stream",
     "text": [
      "Model: \"model_2\"\n",
      "__________________________________________________________________________________________________\n",
      "Layer (type)                    Output Shape         Param #     Connected to                     \n",
      "==================================================================================================\n",
      "input_3 (InputLayer)            [(None, 128, 128, 3) 0                                            \n",
      "__________________________________________________________________________________________________\n",
      "conv2d_38 (Conv2D)              (None, 128, 128, 64) 1792        input_3[0][0]                    \n",
      "__________________________________________________________________________________________________\n",
      "conv2d_39 (Conv2D)              (None, 128, 128, 64) 36928       conv2d_38[0][0]                  \n",
      "__________________________________________________________________________________________________\n",
      "max_pooling2d_8 (MaxPooling2D)  (None, 64, 64, 64)   0           conv2d_39[0][0]                  \n",
      "__________________________________________________________________________________________________\n",
      "conv2d_40 (Conv2D)              (None, 64, 64, 128)  73856       max_pooling2d_8[0][0]            \n",
      "__________________________________________________________________________________________________\n",
      "conv2d_41 (Conv2D)              (None, 64, 64, 128)  147584      conv2d_40[0][0]                  \n",
      "__________________________________________________________________________________________________\n",
      "max_pooling2d_9 (MaxPooling2D)  (None, 32, 32, 128)  0           conv2d_41[0][0]                  \n",
      "__________________________________________________________________________________________________\n",
      "conv2d_42 (Conv2D)              (None, 32, 32, 256)  295168      max_pooling2d_9[0][0]            \n",
      "__________________________________________________________________________________________________\n",
      "conv2d_43 (Conv2D)              (None, 32, 32, 256)  590080      conv2d_42[0][0]                  \n",
      "__________________________________________________________________________________________________\n",
      "max_pooling2d_10 (MaxPooling2D) (None, 16, 16, 256)  0           conv2d_43[0][0]                  \n",
      "__________________________________________________________________________________________________\n",
      "conv2d_44 (Conv2D)              (None, 16, 16, 512)  1180160     max_pooling2d_10[0][0]           \n",
      "__________________________________________________________________________________________________\n",
      "conv2d_45 (Conv2D)              (None, 16, 16, 512)  2359808     conv2d_44[0][0]                  \n",
      "__________________________________________________________________________________________________\n",
      "max_pooling2d_11 (MaxPooling2D) (None, 8, 8, 512)    0           conv2d_45[0][0]                  \n",
      "__________________________________________________________________________________________________\n",
      "dropout_1 (Dropout)             (None, 8, 8, 512)    0           max_pooling2d_11[0][0]           \n",
      "__________________________________________________________________________________________________\n",
      "conv2d_46 (Conv2D)              (None, 8, 8, 1024)   4719616     dropout_1[0][0]                  \n",
      "__________________________________________________________________________________________________\n",
      "conv2d_47 (Conv2D)              (None, 8, 8, 1024)   9438208     conv2d_46[0][0]                  \n",
      "__________________________________________________________________________________________________\n",
      "conv2d_transpose_8 (Conv2DTrans (None, 16, 16, 512)  2097664     conv2d_47[0][0]                  \n",
      "__________________________________________________________________________________________________\n",
      "concatenate_8 (Concatenate)     (None, 16, 16, 1024) 0           conv2d_45[0][0]                  \n",
      "                                                                 conv2d_transpose_8[0][0]         \n",
      "__________________________________________________________________________________________________\n",
      "conv2d_48 (Conv2D)              (None, 16, 16, 512)  4719104     concatenate_8[0][0]              \n",
      "__________________________________________________________________________________________________\n",
      "conv2d_49 (Conv2D)              (None, 16, 16, 512)  2359808     conv2d_48[0][0]                  \n",
      "__________________________________________________________________________________________________\n",
      "conv2d_transpose_9 (Conv2DTrans (None, 32, 32, 256)  524544      conv2d_49[0][0]                  \n",
      "__________________________________________________________________________________________________\n",
      "concatenate_9 (Concatenate)     (None, 32, 32, 512)  0           conv2d_43[0][0]                  \n",
      "                                                                 conv2d_transpose_9[0][0]         \n",
      "__________________________________________________________________________________________________\n",
      "conv2d_50 (Conv2D)              (None, 32, 32, 256)  1179904     concatenate_9[0][0]              \n",
      "__________________________________________________________________________________________________\n",
      "conv2d_51 (Conv2D)              (None, 32, 32, 256)  590080      conv2d_50[0][0]                  \n",
      "__________________________________________________________________________________________________\n",
      "conv2d_transpose_10 (Conv2DTran (None, 64, 64, 128)  131200      conv2d_51[0][0]                  \n",
      "__________________________________________________________________________________________________\n",
      "concatenate_10 (Concatenate)    (None, 64, 64, 256)  0           conv2d_41[0][0]                  \n",
      "                                                                 conv2d_transpose_10[0][0]        \n",
      "__________________________________________________________________________________________________\n",
      "conv2d_52 (Conv2D)              (None, 64, 64, 128)  295040      concatenate_10[0][0]             \n",
      "__________________________________________________________________________________________________\n",
      "conv2d_53 (Conv2D)              (None, 64, 64, 128)  147584      conv2d_52[0][0]                  \n",
      "__________________________________________________________________________________________________\n",
      "conv2d_transpose_11 (Conv2DTran (None, 128, 128, 64) 32832       conv2d_53[0][0]                  \n",
      "__________________________________________________________________________________________________\n",
      "concatenate_11 (Concatenate)    (None, 128, 128, 128 0           conv2d_39[0][0]                  \n",
      "                                                                 conv2d_transpose_11[0][0]        \n",
      "__________________________________________________________________________________________________\n",
      "conv2d_54 (Conv2D)              (None, 128, 128, 64) 73792       concatenate_11[0][0]             \n",
      "__________________________________________________________________________________________________\n",
      "conv2d_55 (Conv2D)              (None, 128, 128, 64) 36928       conv2d_54[0][0]                  \n",
      "__________________________________________________________________________________________________\n",
      "conv2d_56 (Conv2D)              (None, 128, 128, 1)  65          conv2d_55[0][0]                  \n",
      "==================================================================================================\n",
      "Total params: 31,031,745\n",
      "Trainable params: 31,031,745\n",
      "Non-trainable params: 0\n",
      "__________________________________________________________________________________________________\n"
     ]
    }
   ],
   "source": [
    "autoencoder.summary()"
   ]
  },
  {
   "cell_type": "code",
   "execution_count": 26,
   "metadata": {},
   "outputs": [
    {
     "name": "stdout",
     "output_type": "stream",
     "text": [
      "Train for 2035 steps, validate for 509 steps\n",
      "Epoch 1/5\n",
      "2035/2035 [==============================] - 206s 101ms/step - loss: 0.0676 - dice_loss: 0.8717 - binary_crossentropy: 0.0676 - val_loss: 0.0209 - val_dice_loss: 0.9683 - val_binary_crossentropy: 0.0209\n",
      "Epoch 2/5\n",
      "2035/2035 [==============================] - 203s 100ms/step - loss: 0.0271 - dice_loss: 0.9541 - binary_crossentropy: 0.0271 - val_loss: 0.0280 - val_dice_loss: 0.9336 - val_binary_crossentropy: 0.0280\n",
      "Epoch 3/5\n",
      "2035/2035 [==============================] - 201s 99ms/step - loss: 0.0188 - dice_loss: 0.9655 - binary_crossentropy: 0.0188 - val_loss: 0.0183 - val_dice_loss: 0.9666 - val_binary_crossentropy: 0.0183\n",
      "Epoch 4/5\n",
      "2035/2035 [==============================] - 204s 100ms/step - loss: 0.0170 - dice_loss: 0.9689 - binary_crossentropy: 0.0170 - val_loss: 0.0129 - val_dice_loss: 0.9770 - val_binary_crossentropy: 0.0129\n",
      "Epoch 5/5\n",
      "2035/2035 [==============================] - 204s 100ms/step - loss: 0.0113 - dice_loss: 0.9780 - binary_crossentropy: 0.0113 - val_loss: 0.0099 - val_dice_loss: 0.9809 - val_binary_crossentropy: 0.0099\n"
     ]
    }
   ],
   "source": [
    "autoencoder_train = autoencoder.fit_generator(generator=training_generator,\n",
    "                    validation_data=validation_generator,\n",
    "                    use_multiprocessing=True,\n",
    "                    workers=1, epochs=5)"
   ]
  },
  {
   "cell_type": "code",
   "execution_count": 27,
   "metadata": {},
   "outputs": [
    {
     "data": {
      "image/png": "[encoded data removed]",
      "text/plain": [
       "<Figure size 432x288 with 1 Axes>"
      ]
     },
     "metadata": {
      "needs_background": "light"
     },
     "output_type": "display_data"
    }
   ],
   "source": [
    "loss = autoencoder_train.history['loss']\n",
    "val_loss = autoencoder_train.history['val_loss']\n",
    "epochs_ = range(5)\n",
    "plt.figure()\n",
    "plt.plot(epochs_, loss, 'bo', label='Training loss')\n",
    "plt.plot(epochs_, val_loss, 'b', label='Validation loss')\n",
    "plt.title('Training and validation loss')\n",
    "plt.legend()\n",
    "plt.show()"
   ]
  },
  {
   "cell_type": "code",
   "execution_count": 28,
   "metadata": {},
   "outputs": [],
   "source": [
    "imgs = validation_generator.__getitem__(15)"
   ]
  },
  {
   "cell_type": "code",
   "execution_count": 29,
   "metadata": {},
   "outputs": [],
   "source": [
    "training_images = imgs[0]\n",
    "testing_images = imgs[1]"
   ]
  },
  {
   "cell_type": "code",
   "execution_count": 30,
   "metadata": {},
   "outputs": [
    {
     "data": {
      "text/plain": [
       "<matplotlib.image.AxesImage at 0x7f711e5a9898>"
      ]
     },
     "execution_count": 30,
     "metadata": {},
     "output_type": "execute_result"
    },
    {
     "data": {
      "image/png": "[encoded data removed]",
      "text/plain": [
       "<Figure size 432x288 with 1 Axes>"
      ]
     },
     "metadata": {
      "needs_background": "light"
     },
     "output_type": "display_data"
    }
   ],
   "source": [
    "plt.imshow(training_images[0])"
   ]
  },
  {
   "cell_type": "code",
   "execution_count": 31,
   "metadata": {},
   "outputs": [
    {
     "data": {
      "text/plain": [
       "<matplotlib.image.AxesImage at 0x7f711e514d68>"
      ]
     },
     "execution_count": 31,
     "metadata": {},
     "output_type": "execute_result"
    },
    {
     "data": {
      "image/png": "[encoded data removed]",
      "text/plain": [
       "<Figure size 432x288 with 1 Axes>"
      ]
     },
     "metadata": {
      "needs_background": "light"
     },
     "output_type": "display_data"
    }
   ],
   "source": [
    "plt.imshow(testing_images[0], cmap='gray')"
   ]
  },
  {
   "cell_type": "code",
   "execution_count": 32,
   "metadata": {},
   "outputs": [
    {
     "data": {
      "text/plain": [
       "(128, 128)"
      ]
     },
     "execution_count": 32,
     "metadata": {},
     "output_type": "execute_result"
    }
   ],
   "source": [
    "testing_images[0].shape"
   ]
  },
  {
   "cell_type": "code",
   "execution_count": 33,
   "metadata": {},
   "outputs": [],
   "source": [
    "pred = autoencoder.predict(training_images)"
   ]
  },
  {
   "cell_type": "code",
   "execution_count": 34,
   "metadata": {},
   "outputs": [
    {
     "data": {
      "text/plain": [
       "(2, 128, 128, 1)"
      ]
     },
     "execution_count": 34,
     "metadata": {},
     "output_type": "execute_result"
    }
   ],
   "source": [
    "pred.shape"
   ]
  },
  {
   "cell_type": "code",
   "execution_count": 35,
   "metadata": {},
   "outputs": [
    {
     "ename": "ValueError",
     "evalue": "cannot reshape array of size 16384 into shape (576,576)",
     "output_type": "error",
     "traceback": [
      "\u001b[0;31m---------------------------------------------------------------------------\u001b[0m",
      "\u001b[0;31mValueError\u001b[0m                                Traceback (most recent call last)",
      "\u001b[0;32m<ipython-input-35-1cf9927c2431>\u001b[0m in \u001b[0;36m<module>\u001b[0;34m\u001b[0m\n\u001b[0;32m----> 1\u001b[0;31m \u001b[0mplt\u001b[0m\u001b[0;34m.\u001b[0m\u001b[0mimshow\u001b[0m\u001b[0;34m(\u001b[0m\u001b[0mpred\u001b[0m\u001b[0;34m[\u001b[0m\u001b[0;36m1\u001b[0m\u001b[0;34m]\u001b[0m\u001b[0;34m.\u001b[0m\u001b[0mreshape\u001b[0m\u001b[0;34m(\u001b[0m\u001b[0;36m576\u001b[0m\u001b[0;34m,\u001b[0m\u001b[0;36m576\u001b[0m\u001b[0;34m)\u001b[0m\u001b[0;34m,\u001b[0m \u001b[0mcmap\u001b[0m\u001b[0;34m=\u001b[0m\u001b[0;34m'gray'\u001b[0m\u001b[0;34m)\u001b[0m\u001b[0;34m\u001b[0m\u001b[0m\n\u001b[0m",
      "\u001b[0;31mValueError\u001b[0m: cannot reshape array of size 16384 into shape (576,576)"
     ]
    }
   ],
   "source": [
    "plt.imshow(pred[1].reshape(128,128), cmap='gray')"
   ]
  },
  {
   "cell_type": "code",
   "execution_count": null,
   "metadata": {},
   "outputs": [],
   "source": [
    "autoencoder.save('unet_5_iter_binary_loss.h5')"
   ]
  },
  {
   "cell_type": "code",
   "execution_count": null,
   "metadata": {},
   "outputs": [],
   "source": [
    "# load model\n",
    "model = load_model('../input/unet-model/unet_5_iter_binary_loss.h5')"
   ]
  },
  {
   "cell_type": "code",
   "execution_count": null,
   "metadata": {},
   "outputs": [],
   "source": [
    "pred = model.predict(training_images)"
   ]
  },
  {
   "cell_type": "code",
   "execution_count": null,
   "metadata": {},
   "outputs": [],
   "source": [
    "plt.imshow(pred[0].reshape(388,388), cmap='gray')"
   ]
  },
  {
   "cell_type": "code",
   "execution_count": null,
   "metadata": {},
   "outputs": [],
   "source": [
    "ae_2 = model.fit_generator(generator=training_generator,\n",
    "                    validation_data=validation_generator,\n",
    "                    use_multiprocessing=True,\n",
    "                    workers=1, epochs=5)"
   ]
  },
  {
   "cell_type": "code",
   "execution_count": null,
   "metadata": {},
   "outputs": [],
   "source": [
    "pred = model.predict(training_images)\n",
    "plt.imshow(pred[0].reshape(388,388), cmap='gray')"
   ]
  },
  {
   "cell_type": "code",
   "execution_count": null,
   "metadata": {},
   "outputs": [],
   "source": [
    "model.save('unet_multi_iter_binary_loss.h5')"
   ]
  }
 ],
 "metadata": {
  "kernelspec": {
   "display_name": "Python 3",
   "language": "python",
   "name": "python3"
  },
  "language_info": {
   "codemirror_mode": {
    "name": "ipython",
    "version": 3
   },
   "file_extension": ".py",
   "mimetype": "text/x-python",
   "name": "python",
   "nbconvert_exporter": "python",
   "pygments_lexer": "ipython3",
   "version": "3.6.9"
  }
 },
 "nbformat": 4,
 "nbformat_minor": 4
}
