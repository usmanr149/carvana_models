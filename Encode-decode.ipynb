{
 "cells": [
  {
   "cell_type": "code",
   "execution_count": null,
   "metadata": {},
   "outputs": [],
   "source": [
    "from tensorflow import keras\n",
    "\n",
    "import numpy as np\n",
    "import matplotlib.pyplot as plt\n",
    "import pandas as pd\n",
    "\n",
    "%matplotlib inline  "
   ]
  },
  {
   "cell_type": "code",
   "execution_count": null,
   "metadata": {},
   "outputs": [],
   "source": [
    "import os \n",
    "from glob import glob\n",
    "\n",
    "INPUT_PATH = '../'\n",
    "DATA_PATH = INPUT_PATH\n",
    "TRAIN_DATA = os.path.join(DATA_PATH, \"train\")\n",
    "TRAIN_MASKS_DATA = os.path.join(DATA_PATH, \"train_masks\")\n",
    "TEST_DATA = os.path.join(DATA_PATH, \"test\")\n",
    "TRAIN_MASKS_CSV_FILEPATH = os.path.join(DATA_PATH, \"train_masks.csv\")\n",
    "METADATA_CSV_FILEPATH = os.path.join(DATA_PATH, \"metadata.csv\")\n",
    "\n",
    "TRAIN_MASKS_CSV = pd.read_csv(TRAIN_MASKS_CSV_FILEPATH)\n",
    "METADATA_CSV = pd.read_csv(METADATA_CSV_FILEPATH)"
   ]
  },
  {
   "cell_type": "code",
   "execution_count": null,
   "metadata": {},
   "outputs": [],
   "source": [
    "train_files = glob(os.path.join(TRAIN_DATA, \"*.jpg\"))\n",
    "train_ids = [s[len(TRAIN_DATA)+1:-4] for s in train_files]\n",
    "\n",
    "test_files = glob(os.path.join(TEST_DATA, \"*.jpg\"))\n",
    "test_ids = [s[len(TEST_DATA)+1:-4] for s in test_files]"
   ]
  },
  {
   "cell_type": "code",
   "execution_count": null,
   "metadata": {},
   "outputs": [],
   "source": [
    "def get_filename(image_id, image_type):\n",
    "    check_dir = False\n",
    "    if \"Train\" == image_type:\n",
    "        ext = 'jpg'\n",
    "        data_path = TRAIN_DATA\n",
    "        suffix = ''\n",
    "    elif \"Train_mask\" in image_type:\n",
    "        ext = 'gif'\n",
    "        data_path = TRAIN_MASKS_DATA\n",
    "        suffix = '_mask'\n",
    "    elif \"Test\" in image_type:\n",
    "        ext = 'jpg'\n",
    "        data_path = TEST_DATA\n",
    "        suffix = ''\n",
    "    else:\n",
    "        raise Exception(\"Image type '%s' is not recognized\" % image_type)\n",
    "\n",
    "    if check_dir and not os.path.exists(data_path):\n",
    "        os.makedirs(data_path)\n",
    "\n",
    "    return os.path.join(data_path, \"{}{}.{}\".format(image_id, suffix, ext))"
   ]
  },
  {
   "cell_type": "code",
   "execution_count": null,
   "metadata": {},
   "outputs": [],
   "source": [
    "import cv2\n",
    "from PIL import Image\n",
    "\n",
    "\n",
    "def get_image_data(image_id, image_type, **kwargs):\n",
    "    if 'mask' in image_type:\n",
    "        img = _get_image_data_pil(image_id, image_type, **kwargs)\n",
    "    else:\n",
    "        img = _get_image_data_opencv(image_id, image_type, **kwargs)\n",
    "    return img\n",
    "\n",
    "def _get_image_data_opencv(image_id, image_type, **kwargs):\n",
    "    fname = get_filename(image_id, image_type)\n",
    "    img = cv2.imread(fname)\n",
    "    assert img is not None, \"Failed to read image : %s, %s\" % (image_id, image_type)\n",
    "    img = cv2.cvtColor(img, cv2.COLOR_BGR2RGB)\n",
    "    if True:\n",
    "        img = cv2.resize(img,(512, 512))\n",
    "    return img\n",
    "\n",
    "\n",
    "def _get_image_data_pil(image_id, image_type, return_exif_md=False, return_shape_only=False):\n",
    "    fname = get_filename(image_id, image_type)\n",
    "    try:\n",
    "        img_pil = Image.open(fname)\n",
    "    except Exception as e:\n",
    "        assert False, \"Failed to read image : %s, %s. Error message: %s\" % (image_id, image_type, e)\n",
    "\n",
    "    if return_shape_only:\n",
    "        return img_pil.size[::-1] + (len(img_pil.getbands()),)\n",
    "\n",
    "    if True:\n",
    "        img_pil = img_pil.resize((512, 512))\n",
    "    img = np.asarray(img_pil)\n",
    "    assert isinstance(img, np.ndarray), \"Open image is not an ndarray. Image id/type : %s, %s\" % (image_id, image_type)\n",
    "    if not return_exif_md:\n",
    "        return img\n",
    "    else:\n",
    "        return img, img_pil._getexif()"
   ]
  },
  {
   "cell_type": "code",
   "execution_count": null,
   "metadata": {},
   "outputs": [],
   "source": [
    "image_id = train_ids[0]\n",
    "\n",
    "img = get_image_data(image_id, \"Train\")"
   ]
  },
  {
   "cell_type": "code",
   "execution_count": null,
   "metadata": {},
   "outputs": [],
   "source": [
    "mask = get_image_data(image_id, \"Train_mask\")"
   ]
  },
  {
   "cell_type": "code",
   "execution_count": null,
   "metadata": {},
   "outputs": [],
   "source": [
    "plt.imshow(img)"
   ]
  },
  {
   "cell_type": "code",
   "execution_count": null,
   "metadata": {},
   "outputs": [],
   "source": [
    "model = keras.Sequential()\n",
    "\n",
    "model.add(keras.layers.Conv2D(32, (3, 3), activation='relu', kernel_initializer='he_uniform', padding='same', input_shape=img.shape))\n",
    "model.add(keras.layers.Conv2D(32, (3, 3), activation='relu', kernel_initializer='he_uniform', padding='same'))\n",
    "model.add(keras.layers.MaxPool2D(pool_size=(3,3), strides=(2,2)))\n",
    "model.add(keras.layers.Conv2D(32, (3, 3), activation='relu', kernel_initializer='he_uniform', padding='same'))\n",
    "model.add(keras.layers.MaxPool2D(pool_size=(3,3), strides=(2,2)))"
   ]
  },
  {
   "cell_type": "code",
   "execution_count": null,
   "metadata": {},
   "outputs": [],
   "source": []
  },
  {
   "cell_type": "code",
   "execution_count": null,
   "metadata": {},
   "outputs": [],
   "source": []
  },
  {
   "cell_type": "code",
   "execution_count": null,
   "metadata": {},
   "outputs": [],
   "source": []
  },
  {
   "cell_type": "code",
   "execution_count": 1,
   "metadata": {},
   "outputs": [],
   "source": [
    "%matplotlib inline  "
   ]
  },
  {
   "cell_type": "code",
   "execution_count": 2,
   "metadata": {},
   "outputs": [],
   "source": [
    "from tensorflow.keras import backend\n",
    "\n",
    "from tensorflow.keras.layers import Input, Dense\n",
    "from tensorflow.keras.models import Model\n",
    "\n",
    "encoding_dim = 32\n",
    "\n",
    "input_img = Input(shape=(784,))\n",
    "\n",
    "encoded = Dense(encoding_dim, activation='relu')(input_img)\n",
    "\n",
    "decoded = Dense(784, activation='sigmoid')(encoded)\n",
    "\n",
    "autoencoder = Model(input_img, decoded)"
   ]
  },
  {
   "cell_type": "code",
   "execution_count": 3,
   "metadata": {},
   "outputs": [],
   "source": [
    "encoder = Model(input_img, encoded)"
   ]
  },
  {
   "cell_type": "code",
   "execution_count": 4,
   "metadata": {},
   "outputs": [],
   "source": [
    "encoded_input = Input(shape=(encoding_dim,))\n",
    "\n",
    "decoder_layer = autoencoder.layers[-1]"
   ]
  },
  {
   "cell_type": "code",
   "execution_count": 5,
   "metadata": {},
   "outputs": [],
   "source": [
    "decoder = Model(encoded_input, decoder_layer(encoded_input))"
   ]
  },
  {
   "cell_type": "code",
   "execution_count": 6,
   "metadata": {},
   "outputs": [],
   "source": [
    "autoencoder.compile(optimizer='adadelta', loss='binary_crossentropy')\n",
    "\n",
    "# autoencoder.compile(optimizer='sgd', loss='binary_crossentropy')"
   ]
  },
  {
   "cell_type": "code",
   "execution_count": 7,
   "metadata": {},
   "outputs": [],
   "source": [
    "from tensorflow.keras.datasets import mnist\n",
    "import numpy as np"
   ]
  },
  {
   "cell_type": "code",
   "execution_count": 8,
   "metadata": {},
   "outputs": [],
   "source": [
    "(x_train, _), (x_test, _) = mnist.load_data()\n",
    "\n",
    "# x_train = x_train[:10000]"
   ]
  },
  {
   "cell_type": "code",
   "execution_count": 9,
   "metadata": {},
   "outputs": [],
   "source": [
    "x_train = x_train.astype('float32')/255.\n",
    "x_test = x_test.astype('float32')/255."
   ]
  },
  {
   "cell_type": "code",
   "execution_count": 10,
   "metadata": {},
   "outputs": [],
   "source": [
    "x_train = x_train.reshape((len(x_train), np.prod(x_train.shape[1:])))\n",
    "x_test = x_test.reshape((len(x_test), np.prod(x_test.shape[1:])))"
   ]
  },
  {
   "cell_type": "code",
   "execution_count": 15,
   "metadata": {},
   "outputs": [
    {
     "name": "stdout",
     "output_type": "stream",
     "text": [
      "(60000, 784)\n",
      "(10000, 784)\n"
     ]
    }
   ],
   "source": [
    "print(x_train.shape)\n",
    "print(x_test.shape)"
   ]
  },
  {
   "cell_type": "code",
   "execution_count": 12,
   "metadata": {},
   "outputs": [
    {
     "name": "stdout",
     "output_type": "stream",
     "text": [
      "Train on 60000 samples, validate on 10000 samples\n",
      "Epoch 1/50\n",
      "60000/60000 [==============================] - 3s 44us/sample - loss: 0.6940 - val_loss: 0.6939\n",
      "Epoch 2/50\n",
      "60000/60000 [==============================] - 3s 46us/sample - loss: 0.6937 - val_loss: 0.6937\n",
      "Epoch 3/50\n",
      "60000/60000 [==============================] - 3s 47us/sample - loss: 0.6935 - val_loss: 0.6934\n",
      "Epoch 4/50\n",
      "60000/60000 [==============================] - 3s 43us/sample - loss: 0.6933 - val_loss: 0.6932\n",
      "Epoch 5/50\n",
      "60000/60000 [==============================] - 3s 46us/sample - loss: 0.6931 - val_loss: 0.6930\n",
      "Epoch 6/50\n",
      "60000/60000 [==============================] - 3s 43us/sample - loss: 0.6929 - val_loss: 0.6928\n",
      "Epoch 7/50\n",
      "60000/60000 [==============================] - 3s 45us/sample - loss: 0.6927 - val_loss: 0.6926\n",
      "Epoch 8/50\n",
      "60000/60000 [==============================] - 3s 46us/sample - loss: 0.6925 - val_loss: 0.6924\n",
      "Epoch 9/50\n",
      "60000/60000 [==============================] - 3s 52us/sample - loss: 0.6923 - val_loss: 0.6922\n",
      "Epoch 10/50\n",
      "60000/60000 [==============================] - 3s 44us/sample - loss: 0.6921 - val_loss: 0.6920\n",
      "Epoch 11/50\n",
      "60000/60000 [==============================] - 3s 46us/sample - loss: 0.6919 - val_loss: 0.6918\n",
      "Epoch 12/50\n",
      "60000/60000 [==============================] - 3s 48us/sample - loss: 0.6917 - val_loss: 0.6916\n",
      "Epoch 13/50\n",
      "60000/60000 [==============================] - 3s 42us/sample - loss: 0.6915 - val_loss: 0.6914\n",
      "Epoch 14/50\n",
      "60000/60000 [==============================] - 3s 53us/sample - loss: 0.6913 - val_loss: 0.6912\n",
      "Epoch 15/50\n",
      "60000/60000 [==============================] - 3s 50us/sample - loss: 0.6911 - val_loss: 0.6910\n",
      "Epoch 16/50\n",
      "60000/60000 [==============================] - 3s 58us/sample - loss: 0.6909 - val_loss: 0.6908\n",
      "Epoch 17/50\n",
      "60000/60000 [==============================] - 3s 53us/sample - loss: 0.6907 - val_loss: 0.6906\n",
      "Epoch 18/50\n",
      "60000/60000 [==============================] - 3s 50us/sample - loss: 0.6905 - val_loss: 0.6904\n",
      "Epoch 19/50\n",
      "60000/60000 [==============================] - 3s 51us/sample - loss: 0.6903 - val_loss: 0.6902\n",
      "Epoch 20/50\n",
      "60000/60000 [==============================] - 3s 47us/sample - loss: 0.6901 - val_loss: 0.6900\n",
      "Epoch 21/50\n",
      "60000/60000 [==============================] - 3s 45us/sample - loss: 0.6899 - val_loss: 0.6898\n",
      "Epoch 22/50\n",
      "60000/60000 [==============================] - 3s 44us/sample - loss: 0.6897 - val_loss: 0.6895\n",
      "Epoch 23/50\n",
      "60000/60000 [==============================] - 3s 47us/sample - loss: 0.6895 - val_loss: 0.6893\n",
      "Epoch 24/50\n",
      "60000/60000 [==============================] - 3s 44us/sample - loss: 0.6892 - val_loss: 0.6891\n",
      "Epoch 25/50\n",
      "60000/60000 [==============================] - 3s 44us/sample - loss: 0.6890 - val_loss: 0.6889\n",
      "Epoch 26/50\n",
      "60000/60000 [==============================] - 3s 44us/sample - loss: 0.6888 - val_loss: 0.6886\n",
      "Epoch 27/50\n",
      "60000/60000 [==============================] - 3s 46us/sample - loss: 0.6886 - val_loss: 0.6884\n",
      "Epoch 28/50\n",
      "60000/60000 [==============================] - 4s 61us/sample - loss: 0.6883 - val_loss: 0.6882\n",
      "Epoch 29/50\n",
      "60000/60000 [==============================] - 4s 62us/sample - loss: 0.6881 - val_loss: 0.6879\n",
      "Epoch 30/50\n",
      "60000/60000 [==============================] - 3s 48us/sample - loss: 0.6879 - val_loss: 0.6877\n",
      "Epoch 31/50\n",
      "60000/60000 [==============================] - 3s 56us/sample - loss: 0.6876 - val_loss: 0.6875\n",
      "Epoch 32/50\n",
      "60000/60000 [==============================] - 3s 53us/sample - loss: 0.6874 - val_loss: 0.6872\n",
      "Epoch 33/50\n",
      "60000/60000 [==============================] - 3s 44us/sample - loss: 0.6871 - val_loss: 0.6870\n",
      "Epoch 34/50\n",
      "60000/60000 [==============================] - 3s 55us/sample - loss: 0.6869 - val_loss: 0.6867\n",
      "Epoch 35/50\n",
      "60000/60000 [==============================] - 3s 58us/sample - loss: 0.6866 - val_loss: 0.6864\n",
      "Epoch 36/50\n",
      "60000/60000 [==============================] - 3s 42us/sample - loss: 0.6864 - val_loss: 0.6862\n",
      "Epoch 37/50\n",
      "60000/60000 [==============================] - 2s 38us/sample - loss: 0.6861 - val_loss: 0.6859\n",
      "Epoch 38/50\n",
      "60000/60000 [==============================] - 4s 72us/sample - loss: 0.6858 - val_loss: 0.6856\n",
      "Epoch 39/50\n",
      "60000/60000 [==============================] - 4s 68us/sample - loss: 0.6855 - val_loss: 0.6853\n",
      "Epoch 40/50\n",
      "60000/60000 [==============================] - 4s 68us/sample - loss: 0.6852 - val_loss: 0.6850\n",
      "Epoch 41/50\n",
      "60000/60000 [==============================] - 4s 65us/sample - loss: 0.6850 - val_loss: 0.6847\n",
      "Epoch 42/50\n",
      "60000/60000 [==============================] - 4s 67us/sample - loss: 0.6847 - val_loss: 0.6844\n",
      "Epoch 43/50\n",
      "60000/60000 [==============================] - 4s 62us/sample - loss: 0.6843 - val_loss: 0.6841\n",
      "Epoch 44/50\n",
      "60000/60000 [==============================] - 4s 64us/sample - loss: 0.6840 - val_loss: 0.6838\n",
      "Epoch 45/50\n",
      "60000/60000 [==============================] - 4s 63us/sample - loss: 0.6837 - val_loss: 0.6835\n",
      "Epoch 46/50\n",
      "60000/60000 [==============================] - 4s 66us/sample - loss: 0.6834 - val_loss: 0.6831\n",
      "Epoch 47/50\n",
      "60000/60000 [==============================] - 4s 63us/sample - loss: 0.6830 - val_loss: 0.6828\n",
      "Epoch 48/50\n",
      "60000/60000 [==============================] - 4s 62us/sample - loss: 0.6827 - val_loss: 0.6824\n",
      "Epoch 49/50\n",
      "60000/60000 [==============================] - 4s 67us/sample - loss: 0.6823 - val_loss: 0.6821\n",
      "Epoch 50/50\n",
      "60000/60000 [==============================] - 4s 65us/sample - loss: 0.6820 - val_loss: 0.6817\n"
     ]
    },
    {
     "data": {
      "text/plain": [
       "<tensorflow.python.keras.callbacks.History at 0x7ffaf41e91d0>"
      ]
     },
     "execution_count": 12,
     "metadata": {},
     "output_type": "execute_result"
    }
   ],
   "source": [
    "autoencoder.fit(x_train, x_train, epochs=50, \n",
    "               batch_size=256, shuffle=True, validation_data=(x_test, x_test))"
   ]
  },
  {
   "cell_type": "code",
   "execution_count": 13,
   "metadata": {},
   "outputs": [],
   "source": [
    "encoded_imgs = encoder.predict(x_test)\n",
    "decoded_imgs = decoder.predict(encoded_imgs)"
   ]
  },
  {
   "cell_type": "code",
   "execution_count": 14,
   "metadata": {},
   "outputs": [
    {
     "data": {
      "image/png": "[encoded data removed]",
      "text/plain": [
       "<Figure size 1440x288 with 20 Axes>"
      ]
     },
     "metadata": {
      "needs_background": "light"
     },
     "output_type": "display_data"
    }
   ],
   "source": [
    "# use Matplotlib (don't ask)\n",
    "import matplotlib.pyplot as plt\n",
    "\n",
    "n = 10  # how many digits we will display\n",
    "plt.figure(figsize=(20, 4))\n",
    "for i in range(n):\n",
    "    # display original\n",
    "    ax = plt.subplot(2, n, i + 1)\n",
    "    plt.imshow(x_test[i].reshape(28, 28))\n",
    "    plt.gray()\n",
    "    ax.get_xaxis().set_visible(False)\n",
    "    ax.get_yaxis().set_visible(False)\n",
    "\n",
    "    # display reconstruction\n",
    "    ax = plt.subplot(2, n, i + 1 + n)\n",
    "    plt.imshow(decoded_imgs[i].reshape(28, 28))\n",
    "    plt.gray()\n",
    "    ax.get_xaxis().set_visible(False)\n",
    "    ax.get_yaxis().set_visible(False)\n",
    "plt.show()"
   ]
  },
  {
   "cell_type": "code",
   "execution_count": 1,
   "metadata": {},
   "outputs": [],
   "source": [
    "from tensorflow.keras.layers import Input, Dense\n",
    "from tensorflow.keras.models import Model\n",
    "\n",
    "# this is the size of our encoded representations\n",
    "encoding_dim = 32  # 32 floats -> compression of factor 24.5, assuming the input is 784 floats\n",
    "\n",
    "# this is our input placeholder\n",
    "input_img = Input(shape=(784,))\n",
    "# \"encoded\" is the encoded representation of the input\n",
    "encoded = Dense(encoding_dim, activation='relu')(input_img)\n",
    "# \"decoded\" is the lossy reconstruction of the input\n",
    "decoded = Dense(784, activation='sigmoid')(encoded)\n",
    "\n",
    "# this model maps an input to its reconstruction\n",
    "autoencoder = Model(input_img, decoded)"
   ]
  },
  {
   "cell_type": "code",
   "execution_count": 2,
   "metadata": {},
   "outputs": [],
   "source": [
    "# this model maps an input to its encoded representation\n",
    "encoder = Model(input_img, encoded)\n",
    "\n",
    "# create a placeholder for an encoded (32-dimensional) input\n",
    "encoded_input = Input(shape=(encoding_dim,))\n",
    "# retrieve the last layer of the autoencoder model\n",
    "decoder_layer = autoencoder.layers[-1]\n",
    "# create the decoder model\n",
    "decoder = Model(encoded_input, decoder_layer(encoded_input))"
   ]
  },
  {
   "cell_type": "code",
   "execution_count": 3,
   "metadata": {},
   "outputs": [],
   "source": [
    "autoencoder.compile(optimizer='adadelta', loss='binary_crossentropy')"
   ]
  },
  {
   "cell_type": "code",
   "execution_count": 4,
   "metadata": {},
   "outputs": [
    {
     "name": "stderr",
     "output_type": "stream",
     "text": [
      "Using TensorFlow backend.\n"
     ]
    }
   ],
   "source": [
    "from keras.datasets import mnist\n",
    "import numpy as np\n",
    "(x_train, _), (x_test, _) = mnist.load_data()"
   ]
  },
  {
   "cell_type": "code",
   "execution_count": 5,
   "metadata": {},
   "outputs": [
    {
     "name": "stdout",
     "output_type": "stream",
     "text": [
      "(60000, 784)\n",
      "(10000, 784)\n"
     ]
    }
   ],
   "source": [
    "x_train = x_train.astype('float32') / 255.\n",
    "x_test = x_test.astype('float32') / 255.\n",
    "x_train = x_train.reshape((len(x_train), np.prod(x_train.shape[1:])))\n",
    "x_test = x_test.reshape((len(x_test), np.prod(x_test.shape[1:])))\n",
    "print (x_train.shape)\n",
    "print (x_test.shape)"
   ]
  },
  {
   "cell_type": "code",
   "execution_count": 6,
   "metadata": {},
   "outputs": [
    {
     "name": "stdout",
     "output_type": "stream",
     "text": [
      "Train on 60000 samples, validate on 10000 samples\n",
      "Epoch 1/50\n",
      "60000/60000 [==============================] - 3s 47us/sample - loss: 0.6938 - val_loss: 0.6937\n",
      "Epoch 2/50\n",
      "60000/60000 [==============================] - 2s 39us/sample - loss: 0.6936 - val_loss: 0.6936\n",
      "Epoch 3/50\n",
      "60000/60000 [==============================] - 2s 38us/sample - loss: 0.6935 - val_loss: 0.6934\n",
      "Epoch 4/50\n",
      "60000/60000 [==============================] - 2s 40us/sample - loss: 0.6933 - val_loss: 0.6933\n",
      "Epoch 5/50\n",
      "60000/60000 [==============================] - 2s 42us/sample - loss: 0.6932 - val_loss: 0.6931\n",
      "Epoch 6/50\n",
      "60000/60000 [==============================] - 3s 47us/sample - loss: 0.6930 - val_loss: 0.6930\n",
      "Epoch 7/50\n",
      "60000/60000 [==============================] - 3s 42us/sample - loss: 0.6929 - val_loss: 0.6928\n",
      "Epoch 8/50\n",
      "60000/60000 [==============================] - 2s 40us/sample - loss: 0.6928 - val_loss: 0.6927\n",
      "Epoch 9/50\n",
      "60000/60000 [==============================] - 3s 45us/sample - loss: 0.6926 - val_loss: 0.6925\n",
      "Epoch 10/50\n",
      "60000/60000 [==============================] - 3s 47us/sample - loss: 0.6925 - val_loss: 0.6924\n",
      "Epoch 11/50\n",
      "60000/60000 [==============================] - 3s 44us/sample - loss: 0.6923 - val_loss: 0.6922\n",
      "Epoch 12/50\n",
      "60000/60000 [==============================] - 2s 40us/sample - loss: 0.6922 - val_loss: 0.6921\n",
      "Epoch 13/50\n",
      "60000/60000 [==============================] - 2s 39us/sample - loss: 0.6920 - val_loss: 0.6919\n",
      "Epoch 14/50\n",
      "60000/60000 [==============================] - 3s 47us/sample - loss: 0.6919 - val_loss: 0.6918\n",
      "Epoch 15/50\n",
      "60000/60000 [==============================] - 3s 47us/sample - loss: 0.6917 - val_loss: 0.6916\n",
      "Epoch 16/50\n",
      "60000/60000 [==============================] - 2s 41us/sample - loss: 0.6916 - val_loss: 0.6915\n",
      "Epoch 17/50\n",
      "60000/60000 [==============================] - 3s 44us/sample - loss: 0.6914 - val_loss: 0.6913\n",
      "Epoch 18/50\n",
      "60000/60000 [==============================] - 4s 66us/sample - loss: 0.6913 - val_loss: 0.6912\n",
      "Epoch 19/50\n",
      "60000/60000 [==============================] - 3s 44us/sample - loss: 0.6911 - val_loss: 0.6910\n",
      "Epoch 20/50\n",
      "60000/60000 [==============================] - 3s 52us/sample - loss: 0.6910 - val_loss: 0.6909\n",
      "Epoch 21/50\n",
      "60000/60000 [==============================] - 4s 67us/sample - loss: 0.6909 - val_loss: 0.6907\n",
      "Epoch 22/50\n",
      "60000/60000 [==============================] - 3s 49us/sample - loss: 0.6907 - val_loss: 0.6906\n",
      "Epoch 23/50\n",
      "60000/60000 [==============================] - 3s 44us/sample - loss: 0.6906 - val_loss: 0.6904\n",
      "Epoch 24/50\n",
      "60000/60000 [==============================] - 4s 67us/sample - loss: 0.6904 - val_loss: 0.6903\n",
      "Epoch 25/50\n",
      "60000/60000 [==============================] - 4s 65us/sample - loss: 0.6902 - val_loss: 0.6901\n",
      "Epoch 26/50\n",
      "60000/60000 [==============================] - 2s 41us/sample - loss: 0.6901 - val_loss: 0.6900\n",
      "Epoch 27/50\n",
      "60000/60000 [==============================] - 3s 46us/sample - loss: 0.6899 - val_loss: 0.6898\n",
      "Epoch 28/50\n",
      "60000/60000 [==============================] - 3s 45us/sample - loss: 0.6898 - val_loss: 0.6896\n",
      "Epoch 29/50\n",
      "60000/60000 [==============================] - 3s 43us/sample - loss: 0.6896 - val_loss: 0.6895\n",
      "Epoch 30/50\n",
      "60000/60000 [==============================] - 3s 42us/sample - loss: 0.6895 - val_loss: 0.6893\n",
      "Epoch 31/50\n",
      "60000/60000 [==============================] - 3s 47us/sample - loss: 0.6893 - val_loss: 0.6892\n",
      "Epoch 32/50\n",
      "60000/60000 [==============================] - 3s 44us/sample - loss: 0.6891 - val_loss: 0.6890\n",
      "Epoch 33/50\n",
      "60000/60000 [==============================] - 2s 40us/sample - loss: 0.6890 - val_loss: 0.6888\n",
      "Epoch 34/50\n",
      "60000/60000 [==============================] - 2s 41us/sample - loss: 0.6888 - val_loss: 0.6886\n",
      "Epoch 35/50\n",
      "60000/60000 [==============================] - 3s 43us/sample - loss: 0.6886 - val_loss: 0.6885\n",
      "Epoch 36/50\n",
      "60000/60000 [==============================] - 3s 42us/sample - loss: 0.6884 - val_loss: 0.6883\n",
      "Epoch 37/50\n",
      "60000/60000 [==============================] - 3s 52us/sample - loss: 0.6882 - val_loss: 0.6881\n",
      "Epoch 38/50\n",
      "60000/60000 [==============================] - 3s 42us/sample - loss: 0.6881 - val_loss: 0.6879\n",
      "Epoch 39/50\n",
      "60000/60000 [==============================] - 3s 43us/sample - loss: 0.6879 - val_loss: 0.6877\n",
      "Epoch 40/50\n",
      "60000/60000 [==============================] - 3s 42us/sample - loss: 0.6877 - val_loss: 0.6875\n",
      "Epoch 41/50\n",
      "60000/60000 [==============================] - 3s 43us/sample - loss: 0.6875 - val_loss: 0.6873\n",
      "Epoch 42/50\n",
      "60000/60000 [==============================] - 3s 43us/sample - loss: 0.6873 - val_loss: 0.6871\n",
      "Epoch 43/50\n",
      "60000/60000 [==============================] - 3s 47us/sample - loss: 0.6871 - val_loss: 0.6869\n",
      "Epoch 44/50\n",
      "60000/60000 [==============================] - 3s 42us/sample - loss: 0.6869 - val_loss: 0.6867\n",
      "Epoch 45/50\n",
      "60000/60000 [==============================] - 2s 41us/sample - loss: 0.6867 - val_loss: 0.6865\n",
      "Epoch 46/50\n",
      "60000/60000 [==============================] - 3s 42us/sample - loss: 0.6864 - val_loss: 0.6862\n",
      "Epoch 47/50\n",
      "60000/60000 [==============================] - 2s 40us/sample - loss: 0.6862 - val_loss: 0.6860\n",
      "Epoch 48/50\n",
      "60000/60000 [==============================] - 2s 40us/sample - loss: 0.6860 - val_loss: 0.6858\n",
      "Epoch 49/50\n",
      "60000/60000 [==============================] - 2s 41us/sample - loss: 0.6858 - val_loss: 0.6855\n",
      "Epoch 50/50\n",
      "60000/60000 [==============================] - 2s 41us/sample - loss: 0.6855 - val_loss: 0.6853\n"
     ]
    },
    {
     "data": {
      "text/plain": [
       "<tensorflow.python.keras.callbacks.History at 0x7f3fec5af198>"
      ]
     },
     "execution_count": 6,
     "metadata": {},
     "output_type": "execute_result"
    }
   ],
   "source": [
    "autoencoder.fit(x_train, x_train,\n",
    "                epochs=50,\n",
    "                batch_size=256,\n",
    "                shuffle=True,\n",
    "                validation_data=(x_test, x_test))"
   ]
  },
  {
   "cell_type": "code",
   "execution_count": null,
   "metadata": {},
   "outputs": [],
   "source": []
  },
  {
   "cell_type": "code",
   "execution_count": 7,
   "metadata": {},
   "outputs": [
    {
     "name": "stdout",
     "output_type": "stream",
     "text": [
      "Model: \"encoder\"\n",
      "_________________________________________________________________\n",
      "Layer (type)                 Output Shape              Param #   \n",
      "=================================================================\n",
      "encoder_input (InputLayer)   [(None, 28, 28, 1)]       0         \n",
      "_________________________________________________________________\n",
      "conv2d (Conv2D)              (None, 14, 14, 32)        320       \n",
      "_________________________________________________________________\n",
      "conv2d_1 (Conv2D)            (None, 7, 7, 64)          18496     \n",
      "_________________________________________________________________\n",
      "flatten (Flatten)            (None, 3136)              0         \n",
      "_________________________________________________________________\n",
      "latent_vector (Dense)        (None, 16)                50192     \n",
      "=================================================================\n",
      "Total params: 69,008\n",
      "Trainable params: 69,008\n",
      "Non-trainable params: 0\n",
      "_________________________________________________________________\n",
      "Model: \"decoder\"\n",
      "_________________________________________________________________\n",
      "Layer (type)                 Output Shape              Param #   \n",
      "=================================================================\n",
      "decoder_input (InputLayer)   [(None, 16)]              0         \n",
      "_________________________________________________________________\n",
      "dense_2 (Dense)              (None, 3136)              53312     \n",
      "_________________________________________________________________\n",
      "reshape (Reshape)            (None, 7, 7, 64)          0         \n",
      "_________________________________________________________________\n",
      "conv2d_transpose (Conv2DTran (None, 14, 14, 64)        36928     \n",
      "_________________________________________________________________\n",
      "conv2d_transpose_1 (Conv2DTr (None, 28, 28, 32)        18464     \n",
      "_________________________________________________________________\n",
      "conv2d_transpose_2 (Conv2DTr (None, 28, 28, 1)         289       \n",
      "_________________________________________________________________\n",
      "decoder_output (Activation)  (None, 28, 28, 1)         0         \n",
      "=================================================================\n",
      "Total params: 108,993\n",
      "Trainable params: 108,993\n",
      "Non-trainable params: 0\n",
      "_________________________________________________________________\n",
      "Model: \"autoencoder\"\n",
      "_________________________________________________________________\n",
      "Layer (type)                 Output Shape              Param #   \n",
      "=================================================================\n",
      "encoder_input (InputLayer)   [(None, 28, 28, 1)]       0         \n",
      "_________________________________________________________________\n",
      "encoder (Model)              (None, 16)                69008     \n",
      "_________________________________________________________________\n",
      "decoder (Model)              (None, 28, 28, 1)         108993    \n",
      "=================================================================\n",
      "Total params: 178,001\n",
      "Trainable params: 178,001\n",
      "Non-trainable params: 0\n",
      "_________________________________________________________________\n",
      "Train on 60000 samples, validate on 10000 samples\n",
      "Epoch 1/30\n",
      "60000/60000 [==============================] - 58s 963us/sample - loss: 0.0591 - val_loss: 0.0329\n",
      "Epoch 2/30\n",
      "60000/60000 [==============================] - 75s 1ms/sample - loss: 0.0262 - val_loss: 0.0221\n",
      "Epoch 3/30\n",
      "60000/60000 [==============================] - 63s 1ms/sample - loss: 0.0212 - val_loss: 0.0197\n",
      "Epoch 4/30\n",
      "60000/60000 [==============================] - 59s 987us/sample - loss: 0.0194 - val_loss: 0.0186\n",
      "Epoch 5/30\n",
      "60000/60000 [==============================] - 60s 992us/sample - loss: 0.0184 - val_loss: 0.0181\n",
      "Epoch 6/30\n",
      "60000/60000 [==============================] - 59s 984us/sample - loss: 0.0178 - val_loss: 0.0174\n",
      "Epoch 7/30\n",
      "60000/60000 [==============================] - 58s 973us/sample - loss: 0.0172 - val_loss: 0.0171\n",
      "Epoch 8/30\n",
      "60000/60000 [==============================] - 59s 985us/sample - loss: 0.0168 - val_loss: 0.0168\n",
      "Epoch 9/30\n",
      "60000/60000 [==============================] - 67s 1ms/sample - loss: 0.0165 - val_loss: 0.0167\n",
      "Epoch 10/30\n",
      "60000/60000 [==============================] - 72s 1ms/sample - loss: 0.0163 - val_loss: 0.0165\n",
      "Epoch 11/30\n",
      "60000/60000 [==============================] - 65s 1ms/sample - loss: 0.0160 - val_loss: 0.0165\n",
      "Epoch 12/30\n",
      "60000/60000 [==============================] - 62s 1ms/sample - loss: 0.0158 - val_loss: 0.0162\n",
      "Epoch 13/30\n",
      "60000/60000 [==============================] - 73s 1ms/sample - loss: 0.0157 - val_loss: 0.0162\n",
      "Epoch 14/30\n",
      "60000/60000 [==============================] - 73s 1ms/sample - loss: 0.0155 - val_loss: 0.0159\n",
      "Epoch 15/30\n",
      "60000/60000 [==============================] - 81s 1ms/sample - loss: 0.0154 - val_loss: 0.0160\n",
      "Epoch 16/30\n",
      "60000/60000 [==============================] - 72s 1ms/sample - loss: 0.0153 - val_loss: 0.0159\n",
      "Epoch 17/30\n",
      "60000/60000 [==============================] - 70s 1ms/sample - loss: 0.0152 - val_loss: 0.0158\n",
      "Epoch 18/30\n",
      "60000/60000 [==============================] - 65s 1ms/sample - loss: 0.0150 - val_loss: 0.0160\n",
      "Epoch 19/30\n",
      "60000/60000 [==============================] - 67s 1ms/sample - loss: 0.0150 - val_loss: 0.0158\n",
      "Epoch 20/30\n",
      "60000/60000 [==============================] - 68s 1ms/sample - loss: 0.0149 - val_loss: 0.0159\n",
      "Epoch 21/30\n",
      "60000/60000 [==============================] - 78s 1ms/sample - loss: 0.0148 - val_loss: 0.0158\n",
      "Epoch 22/30\n",
      "60000/60000 [==============================] - 72s 1ms/sample - loss: 0.0147 - val_loss: 0.0156\n",
      "Epoch 23/30\n",
      "60000/60000 [==============================] - 80s 1ms/sample - loss: 0.0146 - val_loss: 0.0157\n",
      "Epoch 24/30\n",
      "60000/60000 [==============================] - 87s 1ms/sample - loss: 0.0146 - val_loss: 0.0156\n",
      "Epoch 25/30\n",
      "60000/60000 [==============================] - 77s 1ms/sample - loss: 0.0145 - val_loss: 0.0156\n",
      "Epoch 26/30\n",
      "60000/60000 [==============================] - 62s 1ms/sample - loss: 0.0145 - val_loss: 0.0157\n",
      "Epoch 27/30\n",
      "60000/60000 [==============================] - 81s 1ms/sample - loss: 0.0144 - val_loss: 0.0156\n",
      "Epoch 28/30\n",
      "60000/60000 [==============================] - 94s 2ms/sample - loss: 0.0144 - val_loss: 0.0156\n",
      "Epoch 29/30\n",
      "60000/60000 [==============================] - 91s 2ms/sample - loss: 0.0143 - val_loss: 0.0156\n",
      "Epoch 30/30\n",
      "60000/60000 [==============================] - 91s 2ms/sample - loss: 0.0142 - val_loss: 0.0156\n"
     ]
    },
    {
     "data": {
      "text/plain": [
       "<Figure size 640x480 with 1 Axes>"
      ]
     },
     "metadata": {},
     "output_type": "display_data"
    }
   ],
   "source": [
    "from __future__ import absolute_import\n",
    "from __future__ import division\n",
    "from __future__ import print_function\n",
    "# import keras\n",
    "from tensorflow.keras.layers import Activation, Dense, Input\n",
    "from tensorflow.keras.layers import Conv2D, Flatten\n",
    "from tensorflow.keras.layers import Reshape, Conv2DTranspose\n",
    "from tensorflow.keras.models import Model\n",
    "from tensorflow.keras import backend as K\n",
    "from keras.datasets import mnist\n",
    "import numpy as np\n",
    "import matplotlib.pyplot as plt\n",
    "from PIL import Image\n",
    "\n",
    "np.random.seed(1337)\n",
    "\n",
    "# MNIST dataset\n",
    "(x_train, _), (x_test, _) = mnist.load_data()\n",
    "\n",
    "image_size = x_train.shape[1]\n",
    "x_train = np.reshape(x_train, [-1, image_size, image_size, 1])\n",
    "x_test = np.reshape(x_test, [-1, image_size, image_size, 1])\n",
    "x_train = x_train.astype('float32') / 255\n",
    "x_test = x_test.astype('float32') / 255\n",
    "\n",
    "# Generate corrupted MNIST images by adding noise with normal dist\n",
    "# centered at 0.5 and std=0.5\n",
    "noise = np.random.normal(loc=0.5, scale=0.5, size=x_train.shape)\n",
    "x_train_noisy = x_train + noise\n",
    "noise = np.random.normal(loc=0.5, scale=0.5, size=x_test.shape)\n",
    "x_test_noisy = x_test + noise\n",
    "\n",
    "x_train_noisy = np.clip(x_train_noisy, 0., 1.)\n",
    "x_test_noisy = np.clip(x_test_noisy, 0., 1.)\n",
    "\n",
    "# Network parameters\n",
    "input_shape = (image_size, image_size, 1)\n",
    "batch_size = 128\n",
    "kernel_size = 3\n",
    "latent_dim = 16\n",
    "# Encoder/Decoder number of CNN layers and filters per layer\n",
    "layer_filters = [32, 64]\n",
    "\n",
    "# Build the Autoencoder Model\n",
    "# First build the Encoder Model\n",
    "inputs = Input(shape=input_shape, name='encoder_input')\n",
    "x = inputs\n",
    "# Stack of Conv2D blocks\n",
    "# Notes:\n",
    "# 1) Use Batch Normalization before ReLU on deep networks\n",
    "# 2) Use MaxPooling2D as alternative to strides>1\n",
    "# - faster but not as good as strides>1\n",
    "for filters in layer_filters:\n",
    "    x = Conv2D(filters=filters,\n",
    "               kernel_size=kernel_size,\n",
    "               strides=2,\n",
    "               activation='relu',\n",
    "               padding='same')(x)\n",
    "\n",
    "# Shape info needed to build Decoder Model\n",
    "shape = K.int_shape(x)\n",
    "\n",
    "# Generate the latent vector\n",
    "x = Flatten()(x)\n",
    "latent = Dense(latent_dim, name='latent_vector')(x)\n",
    "\n",
    "# Instantiate Encoder Model\n",
    "encoder = Model(inputs, latent, name='encoder')\n",
    "encoder.summary()\n",
    "\n",
    "# Build the Decoder Model\n",
    "latent_inputs = Input(shape=(latent_dim,), name='decoder_input')\n",
    "x = Dense(shape[1] * shape[2] * shape[3])(latent_inputs)\n",
    "x = Reshape((shape[1], shape[2], shape[3]))(x)\n",
    "\n",
    "# Stack of Transposed Conv2D blocks\n",
    "# Notes:\n",
    "# 1) Use Batch Normalization before ReLU on deep networks\n",
    "# 2) Use UpSampling2D as alternative to strides>1\n",
    "# - faster but not as good as strides>1\n",
    "for filters in layer_filters[::-1]:\n",
    "    x = Conv2DTranspose(filters=filters,\n",
    "                        kernel_size=kernel_size,\n",
    "                        strides=2,\n",
    "                        activation='relu',\n",
    "                        padding='same')(x)\n",
    "\n",
    "x = Conv2DTranspose(filters=1,\n",
    "                    kernel_size=kernel_size,\n",
    "                    padding='same')(x)\n",
    "\n",
    "outputs = Activation('sigmoid', name='decoder_output')(x)\n",
    "\n",
    "# Instantiate Decoder Model\n",
    "decoder = Model(latent_inputs, outputs, name='decoder')\n",
    "decoder.summary()\n",
    "\n",
    "# Autoencoder = Encoder + Decoder\n",
    "# Instantiate Autoencoder Model\n",
    "autoencoder = Model(inputs, decoder(encoder(inputs)), name='autoencoder')\n",
    "autoencoder.summary()\n",
    "\n",
    "autoencoder.compile(loss='mse', optimizer='adam')\n",
    "\n",
    "# Train the autoencoder\n",
    "autoencoder.fit(x_train_noisy,\n",
    "                x_train,\n",
    "                validation_data=(x_test_noisy, x_test),\n",
    "                epochs=30,\n",
    "                batch_size=batch_size)\n",
    "\n",
    "# Predict the Autoencoder output from corrupted test images\n",
    "x_decoded = autoencoder.predict(x_test_noisy)\n",
    "\n",
    "# Display the 1st 8 corrupted and denoised images\n",
    "rows, cols = 10, 30\n",
    "num = rows * cols\n",
    "imgs = np.concatenate([x_test[:num], x_test_noisy[:num], x_decoded[:num]])\n",
    "imgs = imgs.reshape((rows * 3, cols, image_size, image_size))\n",
    "imgs = np.vstack(np.split(imgs, rows, axis=1))\n",
    "imgs = imgs.reshape((rows * 3, -1, image_size, image_size))\n",
    "imgs = np.vstack([np.hstack(i) for i in imgs])\n",
    "imgs = (imgs * 255).astype(np.uint8)\n",
    "plt.figure()\n",
    "plt.axis('off')\n",
    "plt.title('Original images: top rows, '\n",
    "          'Corrupted Input: middle rows, '\n",
    "          'Denoised Input:  third rows')\n",
    "plt.imshow(imgs, interpolation='none', cmap='gray')\n",
    "Image.fromarray(imgs).save('corrupted_and_denoised.png')\n",
    "plt.show()"
   ]
  },
  {
   "cell_type": "code",
   "execution_count": 8,
   "metadata": {},
   "outputs": [],
   "source": [
    "%matplotlib inline  "
   ]
  },
  {
   "cell_type": "code",
   "execution_count": 10,
   "metadata": {},
   "outputs": [
    {
     "data": {
      "image/png": "[encoded data removed]",
      "text/plain": [
       "<Figure size 432x288 with 1 Axes>"
      ]
     },
     "metadata": {
      "needs_background": "light"
     },
     "output_type": "display_data"
    }
   ],
   "source": [
    "# Predict the Autoencoder output from corrupted test images\n",
    "x_decoded = autoencoder.predict(x_test_noisy)\n",
    "\n",
    "# Display the 1st 8 corrupted and denoised images\n",
    "rows, cols = 10, 10\n",
    "num = rows * cols\n",
    "imgs = np.concatenate([x_test[:num], x_test_noisy[:num], x_decoded[:num]])\n",
    "imgs = imgs.reshape((rows * 3, cols, image_size, image_size))\n",
    "imgs = np.vstack(np.split(imgs, rows, axis=1))\n",
    "imgs = imgs.reshape((rows * 3, -1, image_size, image_size))\n",
    "imgs = np.vstack([np.hstack(i) for i in imgs])\n",
    "imgs = (imgs * 255).astype(np.uint8)\n",
    "plt.figure()\n",
    "plt.axis('off')\n",
    "plt.title('Original images: top rows, '\n",
    "          'Corrupted Input: middle rows, '\n",
    "          'Denoised Input:  third rows')\n",
    "plt.imshow(imgs, interpolation='none', cmap='gray')\n",
    "Image.fromarray(imgs).save('corrupted_and_denoised.png')\n",
    "plt.show()"
   ]
  },
  {
   "cell_type": "code",
   "execution_count": 11,
   "metadata": {},
   "outputs": [
    {
     "data": {
      "image/png": "[encoded data removed]",
      "text/plain": [
       "<Figure size 432x288 with 1 Axes>"
      ]
     },
     "metadata": {
      "needs_background": "light"
     },
     "output_type": "display_data"
    }
   ],
   "source": [
    "# Display the 1st 8 corrupted and denoised images\n",
    "rows, cols = 3, 3\n",
    "num = rows * cols\n",
    "imgs = np.concatenate([x_test[:num], x_test_noisy[:num], x_decoded[:num]])\n",
    "imgs = imgs.reshape((rows * 3, cols, image_size, image_size))\n",
    "imgs = np.vstack(np.split(imgs, rows, axis=1))\n",
    "imgs = imgs.reshape((rows * 3, -1, image_size, image_size))\n",
    "imgs = np.vstack([np.hstack(i) for i in imgs])\n",
    "imgs = (imgs * 255).astype(np.uint8)\n",
    "plt.figure()\n",
    "plt.axis('off')\n",
    "plt.title('Original images: top rows, '\n",
    "          'Corrupted Input: middle rows, '\n",
    "          'Denoised Input:  third rows')\n",
    "plt.imshow(imgs, interpolation='none', cmap='gray')\n",
    "Image.fromarray(imgs).save('corrupted_and_denoised.png')\n",
    "plt.show()"
   ]
  },
  {
   "cell_type": "code",
   "execution_count": 1,
   "metadata": {},
   "outputs": [],
   "source": [
    "import tensorflow.keras as keras\n",
    "from matplotlib import pyplot as plt\n",
    "import numpy as np\n",
    "import gzip\n",
    "%matplotlib inline\n",
    "from tensorflow.keras.layers import Input,Conv2D,MaxPooling2D,UpSampling2D, Dense,BatchNormalization, Dropout\n",
    "from tensorflow.keras.models import Model\n",
    "from tensorflow.keras.optimizers import RMSprop\n",
    "from tensorflow.keras import regularizers"
   ]
  },
  {
   "cell_type": "code",
   "execution_count": 116,
   "metadata": {},
   "outputs": [],
   "source": [
    "def extract_data(filename, num_images):\n",
    "    with gzip.open(filename) as bytestream:\n",
    "        bytestream.read(16)\n",
    "        buf = bytestream.read(28 * 28 * num_images)\n",
    "        data = np.frombuffer(buf, dtype=np.uint8).astype(np.float32)\n",
    "        data = data.reshape(num_images, 28,28)\n",
    "        return data"
   ]
  },
  {
   "cell_type": "code",
   "execution_count": 117,
   "metadata": {},
   "outputs": [],
   "source": [
    "train_data = extract_data('train-images-idx3-ubyte.gz', 60000)\n",
    "test_data = extract_data('t10k-images-idx3-ubyte.gz', 10000)"
   ]
  },
  {
   "cell_type": "code",
   "execution_count": 118,
   "metadata": {},
   "outputs": [],
   "source": [
    "def extract_labels(filename, num_images):\n",
    "    with gzip.open(filename) as bytestream:\n",
    "        bytestream.read(8)\n",
    "        buf = bytestream.read(1 * num_images)\n",
    "        labels = np.frombuffer(buf, dtype=np.uint8).astype(np.int64)\n",
    "        return labels"
   ]
  },
  {
   "cell_type": "code",
   "execution_count": 119,
   "metadata": {},
   "outputs": [],
   "source": [
    "train_labels = extract_labels('train-labels-idx1-ubyte.gz',60000)\n",
    "test_labels = extract_labels('t10k-labels-idx1-ubyte.gz',10000)"
   ]
  },
  {
   "cell_type": "code",
   "execution_count": 120,
   "metadata": {},
   "outputs": [
    {
     "name": "stdout",
     "output_type": "stream",
     "text": [
      "Training set (images) shape: (60000, 28, 28)\n",
      "Test set (images) shape: (10000, 28, 28)\n"
     ]
    }
   ],
   "source": [
    "# Shapes of training set\n",
    "print(\"Training set (images) shape: {shape}\".format(shape=train_data.shape))\n",
    "\n",
    "# Shapes of test set\n",
    "print(\"Test set (images) shape: {shape}\".format(shape=test_data.shape))"
   ]
  },
  {
   "cell_type": "code",
   "execution_count": 7,
   "metadata": {},
   "outputs": [],
   "source": [
    "# Create dictionary of target classes\n",
    "label_dict = {\n",
    " 0: 'A',\n",
    " 1: 'B',\n",
    " 2: 'C',\n",
    " 3: 'D',\n",
    " 4: 'E',\n",
    " 5: 'F',\n",
    " 6: 'G',\n",
    " 7: 'H',\n",
    " 8: 'I',\n",
    " 9: 'J',\n",
    "}"
   ]
  },
  {
   "cell_type": "code",
   "execution_count": 8,
   "metadata": {},
   "outputs": [
    {
     "data": {
      "text/plain": [
       "Text(0.5, 1.0, '(Label: H)')"
      ]
     },
     "execution_count": 8,
     "metadata": {},
     "output_type": "execute_result"
    },
    {
     "data": {
      "image/png": "[encoded data removed]",
      "text/plain": [
       "<Figure size 360x360 with 2 Axes>"
      ]
     },
     "metadata": {
      "needs_background": "light"
     },
     "output_type": "display_data"
    }
   ],
   "source": [
    "plt.figure(figsize=[5,5])\n",
    "\n",
    "# Display the first image in training data\n",
    "plt.subplot(121)\n",
    "curr_img = np.reshape(train_data[0], (28,28))\n",
    "curr_lbl = train_labels[0]\n",
    "plt.imshow(curr_img, cmap='gray')\n",
    "plt.title(\"(Label: \" + str(label_dict[curr_lbl]) + \")\")\n",
    "\n",
    "# Display the first image in testing data\n",
    "plt.subplot(122)\n",
    "curr_img = np.reshape(test_data[0], (28,28))\n",
    "curr_lbl = test_labels[0]\n",
    "plt.imshow(curr_img, cmap='gray')\n",
    "plt.title(\"(Label: \" + str(label_dict[curr_lbl]) + \")\")"
   ]
  },
  {
   "cell_type": "code",
   "execution_count": 9,
   "metadata": {},
   "outputs": [
    {
     "data": {
      "text/plain": [
       "((60000, 28, 28, 1), (10000, 28, 28, 1))"
      ]
     },
     "execution_count": 9,
     "metadata": {},
     "output_type": "execute_result"
    }
   ],
   "source": [
    "train_data = train_data.reshape(-1, 28,28, 1)\n",
    "test_data = test_data.reshape(-1, 28,28, 1)\n",
    "train_data.shape, test_data.shape"
   ]
  },
  {
   "cell_type": "code",
   "execution_count": 10,
   "metadata": {},
   "outputs": [
    {
     "data": {
      "text/plain": [
       "(dtype('float32'), dtype('float32'))"
      ]
     },
     "execution_count": 10,
     "metadata": {},
     "output_type": "execute_result"
    }
   ],
   "source": [
    "train_data.dtype, test_data.dtype\n"
   ]
  },
  {
   "cell_type": "code",
   "execution_count": 11,
   "metadata": {},
   "outputs": [
    {
     "data": {
      "text/plain": [
       "(255.0, 255.0)"
      ]
     },
     "execution_count": 11,
     "metadata": {},
     "output_type": "execute_result"
    }
   ],
   "source": [
    "np.max(train_data), np.max(test_data)"
   ]
  },
  {
   "cell_type": "code",
   "execution_count": 12,
   "metadata": {},
   "outputs": [],
   "source": [
    "train_data = train_data / np.max(train_data)\n",
    "test_data = test_data / np.max(test_data)"
   ]
  },
  {
   "cell_type": "code",
   "execution_count": 13,
   "metadata": {},
   "outputs": [
    {
     "data": {
      "text/plain": [
       "(1.0, 1.0)"
      ]
     },
     "execution_count": 13,
     "metadata": {},
     "output_type": "execute_result"
    }
   ],
   "source": [
    "np.max(train_data), np.max(test_data)"
   ]
  },
  {
   "cell_type": "code",
   "execution_count": 14,
   "metadata": {},
   "outputs": [],
   "source": [
    "from sklearn.model_selection import train_test_split\n",
    "train_X,valid_X,train_ground,valid_ground = train_test_split(train_data,\n",
    "                                                             train_data, \n",
    "                                                             test_size=0.2, \n",
    "                                                             random_state=13)"
   ]
  },
  {
   "cell_type": "code",
   "execution_count": 15,
   "metadata": {},
   "outputs": [],
   "source": [
    "batch_size = 128\n",
    "epochs = 50\n",
    "inChannel = 1\n",
    "x, y = 28, 28\n",
    "input_img = Input(shape = (x, y, inChannel))"
   ]
  },
  {
   "cell_type": "code",
   "execution_count": 16,
   "metadata": {},
   "outputs": [],
   "source": [
    "def autoencoder(input_img):\n",
    "    #encoder\n",
    "    #input = 28 x 28 x 1 (wide and thin)\n",
    "    conv1 = Conv2D(32, (3, 3), activation='relu', padding='same')(input_img) #28 x 28 x 32\n",
    "    pool1 = MaxPooling2D(pool_size=(2, 2))(conv1) #14 x 14 x 32\n",
    "    conv2 = Conv2D(64, (3, 3), activation='relu', padding='same')(pool1) #14 x 14 x 64\n",
    "    pool2 = MaxPooling2D(pool_size=(2, 2))(conv2) #7 x 7 x 64\n",
    "    conv3 = Conv2D(128, (3, 3), activation='relu', padding='same')(pool2) #7 x 7 x 128 (small and thick)\n",
    "\n",
    "    #decoder\n",
    "    conv4 = Conv2D(128, (3, 3), activation='relu', padding='same')(conv3) #7 x 7 x 128\n",
    "    up1 = UpSampling2D((2,2))(conv4) # 14 x 14 x 128\n",
    "    conv5 = Conv2D(64, (3, 3), activation='relu', padding='same')(up1) # 14 x 14 x 64\n",
    "    up2 = UpSampling2D((2,2))(conv5) # 28 x 28 x 64\n",
    "    decoded = Conv2D(1, (3, 3), activation='sigmoid', padding='same')(up2) # 28 x 28 x 1\n",
    "    return decoded"
   ]
  },
  {
   "cell_type": "code",
   "execution_count": 17,
   "metadata": {},
   "outputs": [],
   "source": [
    "autoencoder = Model(input_img, autoencoder(input_img))\n",
    "autoencoder.compile(loss='mean_squared_error', optimizer = RMSprop())"
   ]
  },
  {
   "cell_type": "code",
   "execution_count": 18,
   "metadata": {},
   "outputs": [
    {
     "name": "stdout",
     "output_type": "stream",
     "text": [
      "Model: \"model\"\n",
      "_________________________________________________________________\n",
      "Layer (type)                 Output Shape              Param #   \n",
      "=================================================================\n",
      "input_1 (InputLayer)         [(None, 28, 28, 1)]       0         \n",
      "_________________________________________________________________\n",
      "conv2d (Conv2D)              (None, 28, 28, 32)        320       \n",
      "_________________________________________________________________\n",
      "max_pooling2d (MaxPooling2D) (None, 14, 14, 32)        0         \n",
      "_________________________________________________________________\n",
      "conv2d_1 (Conv2D)            (None, 14, 14, 64)        18496     \n",
      "_________________________________________________________________\n",
      "max_pooling2d_1 (MaxPooling2 (None, 7, 7, 64)          0         \n",
      "_________________________________________________________________\n",
      "conv2d_2 (Conv2D)            (None, 7, 7, 128)         73856     \n",
      "_________________________________________________________________\n",
      "conv2d_3 (Conv2D)            (None, 7, 7, 128)         147584    \n",
      "_________________________________________________________________\n",
      "up_sampling2d (UpSampling2D) (None, 14, 14, 128)       0         \n",
      "_________________________________________________________________\n",
      "conv2d_4 (Conv2D)            (None, 14, 14, 64)        73792     \n",
      "_________________________________________________________________\n",
      "up_sampling2d_1 (UpSampling2 (None, 28, 28, 64)        0         \n",
      "_________________________________________________________________\n",
      "conv2d_5 (Conv2D)            (None, 28, 28, 1)         577       \n",
      "=================================================================\n",
      "Total params: 314,625\n",
      "Trainable params: 314,625\n",
      "Non-trainable params: 0\n",
      "_________________________________________________________________\n"
     ]
    }
   ],
   "source": [
    "autoencoder.summary()"
   ]
  },
  {
   "cell_type": "code",
   "execution_count": 19,
   "metadata": {},
   "outputs": [
    {
     "name": "stdout",
     "output_type": "stream",
     "text": [
      "Train on 48000 samples, validate on 12000 samples\n",
      "Epoch 1/50\n",
      "48000/48000 [==============================] - 222s 5ms/sample - loss: 0.1123 - val_loss: 0.1123\n",
      "Epoch 2/50\n",
      "48000/48000 [==============================] - 287s 6ms/sample - loss: 0.1119 - val_loss: 0.1123\n",
      "Epoch 3/50\n",
      "48000/48000 [==============================] - 250s 5ms/sample - loss: 0.1119 - val_loss: 0.1123\n",
      "Epoch 4/50\n",
      "48000/48000 [==============================] - 266s 6ms/sample - loss: 0.1119 - val_loss: 0.1123\n",
      "Epoch 5/50\n",
      "48000/48000 [==============================] - 280s 6ms/sample - loss: 0.1119 - val_loss: 0.1123\n",
      "Epoch 6/50\n",
      "48000/48000 [==============================] - 243s 5ms/sample - loss: 0.1119 - val_loss: 0.1123\n",
      "Epoch 7/50\n",
      "48000/48000 [==============================] - 238s 5ms/sample - loss: 0.1119 - val_loss: 0.1123\n",
      "Epoch 8/50\n",
      "48000/48000 [==============================] - 241s 5ms/sample - loss: 0.1119 - val_loss: 0.1123\n",
      "Epoch 9/50\n",
      "48000/48000 [==============================] - 244s 5ms/sample - loss: 0.1119 - val_loss: 0.1123\n",
      "Epoch 10/50\n",
      "48000/48000 [==============================] - 242s 5ms/sample - loss: 0.1119 - val_loss: 0.1123\n",
      "Epoch 11/50\n",
      "48000/48000 [==============================] - 280s 6ms/sample - loss: 0.1119 - val_loss: 0.1123\n",
      "Epoch 12/50\n",
      "48000/48000 [==============================] - 279s 6ms/sample - loss: 0.1119 - val_loss: 0.1123\n",
      "Epoch 13/50\n",
      "48000/48000 [==============================] - 294s 6ms/sample - loss: 0.1119 - val_loss: 0.1123\n",
      "Epoch 14/50\n",
      "48000/48000 [==============================] - 304s 6ms/sample - loss: 0.1119 - val_loss: 0.1123\n",
      "Epoch 15/50\n",
      "48000/48000 [==============================] - 286s 6ms/sample - loss: 0.1119 - val_loss: 0.1123\n",
      "Epoch 16/50\n",
      "48000/48000 [==============================] - 249s 5ms/sample - loss: 0.1119 - val_loss: 0.1123\n",
      "Epoch 17/50\n",
      "48000/48000 [==============================] - 247s 5ms/sample - loss: 0.1119 - val_loss: 0.1123\n",
      "Epoch 18/50\n",
      "48000/48000 [==============================] - 245s 5ms/sample - loss: 0.1119 - val_loss: 0.1123\n",
      "Epoch 19/50\n",
      "48000/48000 [==============================] - 247s 5ms/sample - loss: 0.1119 - val_loss: 0.1123\n",
      "Epoch 20/50\n",
      "48000/48000 [==============================] - 246s 5ms/sample - loss: 0.1119 - val_loss: 0.1123\n",
      "Epoch 21/50\n",
      "48000/48000 [==============================] - 241s 5ms/sample - loss: 0.1119 - val_loss: 0.1123\n",
      "Epoch 22/50\n",
      "48000/48000 [==============================] - 263s 5ms/sample - loss: 0.1119 - val_loss: 0.1123\n",
      "Epoch 23/50\n",
      "48000/48000 [==============================] - 332s 7ms/sample - loss: 0.1119 - val_loss: 0.1123\n",
      "Epoch 24/50\n",
      "48000/48000 [==============================] - 304s 6ms/sample - loss: 0.1119 - val_loss: 0.1123\n",
      "Epoch 25/50\n",
      "48000/48000 [==============================] - 293s 6ms/sample - loss: 0.1119 - val_loss: 0.1123\n",
      "Epoch 26/50\n",
      "27392/48000 [================>.............] - ETA: 2:14 - loss: 0.1121"
     ]
    },
    {
     "ename": "KeyboardInterrupt",
     "evalue": "",
     "output_type": "error",
     "traceback": [
      "\u001b[0;31m---------------------------------------------------------------------------\u001b[0m",
      "\u001b[0;31mKeyboardInterrupt\u001b[0m                         Traceback (most recent call last)",
      "\u001b[0;32m<ipython-input-19-a29505c4b436>\u001b[0m in \u001b[0;36m<module>\u001b[0;34m\u001b[0m\n\u001b[0;32m----> 1\u001b[0;31m \u001b[0mautoencoder_train\u001b[0m \u001b[0;34m=\u001b[0m \u001b[0mautoencoder\u001b[0m\u001b[0;34m.\u001b[0m\u001b[0mfit\u001b[0m\u001b[0;34m(\u001b[0m\u001b[0mtrain_X\u001b[0m\u001b[0;34m,\u001b[0m \u001b[0mtrain_ground\u001b[0m\u001b[0;34m,\u001b[0m \u001b[0mbatch_size\u001b[0m\u001b[0;34m=\u001b[0m\u001b[0mbatch_size\u001b[0m\u001b[0;34m,\u001b[0m\u001b[0mepochs\u001b[0m\u001b[0;34m=\u001b[0m\u001b[0mepochs\u001b[0m\u001b[0;34m,\u001b[0m\u001b[0mverbose\u001b[0m\u001b[0;34m=\u001b[0m\u001b[0;36m1\u001b[0m\u001b[0;34m,\u001b[0m\u001b[0mvalidation_data\u001b[0m\u001b[0;34m=\u001b[0m\u001b[0;34m(\u001b[0m\u001b[0mvalid_X\u001b[0m\u001b[0;34m,\u001b[0m \u001b[0mvalid_ground\u001b[0m\u001b[0;34m)\u001b[0m\u001b[0;34m)\u001b[0m\u001b[0;34m\u001b[0m\u001b[0;34m\u001b[0m\u001b[0m\n\u001b[0m",
      "\u001b[0;32m~/.virtualenvs/YOLO/lib/python3.6/site-packages/tensorflow/python/keras/engine/training.py\u001b[0m in \u001b[0;36mfit\u001b[0;34m(self, x, y, batch_size, epochs, verbose, callbacks, validation_split, validation_data, shuffle, class_weight, sample_weight, initial_epoch, steps_per_epoch, validation_steps, validation_freq, max_queue_size, workers, use_multiprocessing, **kwargs)\u001b[0m\n\u001b[1;32m    871\u001b[0m           \u001b[0mvalidation_steps\u001b[0m\u001b[0;34m=\u001b[0m\u001b[0mvalidation_steps\u001b[0m\u001b[0;34m,\u001b[0m\u001b[0;34m\u001b[0m\u001b[0;34m\u001b[0m\u001b[0m\n\u001b[1;32m    872\u001b[0m           \u001b[0mvalidation_freq\u001b[0m\u001b[0;34m=\u001b[0m\u001b[0mvalidation_freq\u001b[0m\u001b[0;34m,\u001b[0m\u001b[0;34m\u001b[0m\u001b[0;34m\u001b[0m\u001b[0m\n\u001b[0;32m--> 873\u001b[0;31m           steps_name='steps_per_epoch')\n\u001b[0m\u001b[1;32m    874\u001b[0m \u001b[0;34m\u001b[0m\u001b[0m\n\u001b[1;32m    875\u001b[0m   def evaluate(self,\n",
      "\u001b[0;32m~/.virtualenvs/YOLO/lib/python3.6/site-packages/tensorflow/python/keras/engine/training_arrays.py\u001b[0m in \u001b[0;36mmodel_iteration\u001b[0;34m(model, inputs, targets, sample_weights, batch_size, epochs, verbose, callbacks, val_inputs, val_targets, val_sample_weights, shuffle, initial_epoch, steps_per_epoch, validation_steps, validation_freq, mode, validation_in_fit, prepared_feed_values_from_dataset, steps_name, **kwargs)\u001b[0m\n\u001b[1;32m    350\u001b[0m \u001b[0;34m\u001b[0m\u001b[0m\n\u001b[1;32m    351\u001b[0m         \u001b[0;31m# Get outputs.\u001b[0m\u001b[0;34m\u001b[0m\u001b[0;34m\u001b[0m\u001b[0;34m\u001b[0m\u001b[0m\n\u001b[0;32m--> 352\u001b[0;31m         \u001b[0mbatch_outs\u001b[0m \u001b[0;34m=\u001b[0m \u001b[0mf\u001b[0m\u001b[0;34m(\u001b[0m\u001b[0mins_batch\u001b[0m\u001b[0;34m)\u001b[0m\u001b[0;34m\u001b[0m\u001b[0;34m\u001b[0m\u001b[0m\n\u001b[0m\u001b[1;32m    353\u001b[0m         \u001b[0;32mif\u001b[0m \u001b[0;32mnot\u001b[0m \u001b[0misinstance\u001b[0m\u001b[0;34m(\u001b[0m\u001b[0mbatch_outs\u001b[0m\u001b[0;34m,\u001b[0m \u001b[0mlist\u001b[0m\u001b[0;34m)\u001b[0m\u001b[0;34m:\u001b[0m\u001b[0;34m\u001b[0m\u001b[0;34m\u001b[0m\u001b[0m\n\u001b[1;32m    354\u001b[0m           \u001b[0mbatch_outs\u001b[0m \u001b[0;34m=\u001b[0m \u001b[0;34m[\u001b[0m\u001b[0mbatch_outs\u001b[0m\u001b[0;34m]\u001b[0m\u001b[0;34m\u001b[0m\u001b[0;34m\u001b[0m\u001b[0m\n",
      "\u001b[0;32m~/.virtualenvs/YOLO/lib/python3.6/site-packages/tensorflow/python/keras/backend.py\u001b[0m in \u001b[0;36m__call__\u001b[0;34m(self, inputs)\u001b[0m\n\u001b[1;32m   3215\u001b[0m         \u001b[0mvalue\u001b[0m \u001b[0;34m=\u001b[0m \u001b[0mmath_ops\u001b[0m\u001b[0;34m.\u001b[0m\u001b[0mcast\u001b[0m\u001b[0;34m(\u001b[0m\u001b[0mvalue\u001b[0m\u001b[0;34m,\u001b[0m \u001b[0mtensor\u001b[0m\u001b[0;34m.\u001b[0m\u001b[0mdtype\u001b[0m\u001b[0;34m)\u001b[0m\u001b[0;34m\u001b[0m\u001b[0;34m\u001b[0m\u001b[0m\n\u001b[1;32m   3216\u001b[0m       \u001b[0mconverted_inputs\u001b[0m\u001b[0;34m.\u001b[0m\u001b[0mappend\u001b[0m\u001b[0;34m(\u001b[0m\u001b[0mvalue\u001b[0m\u001b[0;34m)\u001b[0m\u001b[0;34m\u001b[0m\u001b[0;34m\u001b[0m\u001b[0m\n\u001b[0;32m-> 3217\u001b[0;31m     \u001b[0moutputs\u001b[0m \u001b[0;34m=\u001b[0m \u001b[0mself\u001b[0m\u001b[0;34m.\u001b[0m\u001b[0m_graph_fn\u001b[0m\u001b[0;34m(\u001b[0m\u001b[0;34m*\u001b[0m\u001b[0mconverted_inputs\u001b[0m\u001b[0;34m)\u001b[0m\u001b[0;34m\u001b[0m\u001b[0;34m\u001b[0m\u001b[0m\n\u001b[0m\u001b[1;32m   3218\u001b[0m     return nest.pack_sequence_as(self._outputs_structure,\n\u001b[1;32m   3219\u001b[0m                                  [x.numpy() for x in outputs])\n",
      "\u001b[0;32m~/.virtualenvs/YOLO/lib/python3.6/site-packages/tensorflow/python/eager/function.py\u001b[0m in \u001b[0;36m__call__\u001b[0;34m(self, *args, **kwargs)\u001b[0m\n\u001b[1;32m    556\u001b[0m       raise TypeError(\"Keyword arguments {} unknown. Expected {}.\".format(\n\u001b[1;32m    557\u001b[0m           list(kwargs.keys()), list(self._arg_keywords)))\n\u001b[0;32m--> 558\u001b[0;31m     \u001b[0;32mreturn\u001b[0m \u001b[0mself\u001b[0m\u001b[0;34m.\u001b[0m\u001b[0m_call_flat\u001b[0m\u001b[0;34m(\u001b[0m\u001b[0margs\u001b[0m\u001b[0;34m)\u001b[0m\u001b[0;34m\u001b[0m\u001b[0;34m\u001b[0m\u001b[0m\n\u001b[0m\u001b[1;32m    559\u001b[0m \u001b[0;34m\u001b[0m\u001b[0m\n\u001b[1;32m    560\u001b[0m   \u001b[0;32mdef\u001b[0m \u001b[0m_filtered_call\u001b[0m\u001b[0;34m(\u001b[0m\u001b[0mself\u001b[0m\u001b[0;34m,\u001b[0m \u001b[0margs\u001b[0m\u001b[0;34m,\u001b[0m \u001b[0mkwargs\u001b[0m\u001b[0;34m)\u001b[0m\u001b[0;34m:\u001b[0m\u001b[0;34m\u001b[0m\u001b[0;34m\u001b[0m\u001b[0m\n",
      "\u001b[0;32m~/.virtualenvs/YOLO/lib/python3.6/site-packages/tensorflow/python/eager/function.py\u001b[0m in \u001b[0;36m_call_flat\u001b[0;34m(self, args)\u001b[0m\n\u001b[1;32m    625\u001b[0m     \u001b[0;31m# Only need to override the gradient in graph mode and when we have outputs.\u001b[0m\u001b[0;34m\u001b[0m\u001b[0;34m\u001b[0m\u001b[0;34m\u001b[0m\u001b[0m\n\u001b[1;32m    626\u001b[0m     \u001b[0;32mif\u001b[0m \u001b[0mcontext\u001b[0m\u001b[0;34m.\u001b[0m\u001b[0mexecuting_eagerly\u001b[0m\u001b[0;34m(\u001b[0m\u001b[0;34m)\u001b[0m \u001b[0;32mor\u001b[0m \u001b[0;32mnot\u001b[0m \u001b[0mself\u001b[0m\u001b[0;34m.\u001b[0m\u001b[0moutputs\u001b[0m\u001b[0;34m:\u001b[0m\u001b[0;34m\u001b[0m\u001b[0;34m\u001b[0m\u001b[0m\n\u001b[0;32m--> 627\u001b[0;31m       \u001b[0moutputs\u001b[0m \u001b[0;34m=\u001b[0m \u001b[0mself\u001b[0m\u001b[0;34m.\u001b[0m\u001b[0m_inference_function\u001b[0m\u001b[0;34m.\u001b[0m\u001b[0mcall\u001b[0m\u001b[0;34m(\u001b[0m\u001b[0mctx\u001b[0m\u001b[0;34m,\u001b[0m \u001b[0margs\u001b[0m\u001b[0;34m)\u001b[0m\u001b[0;34m\u001b[0m\u001b[0;34m\u001b[0m\u001b[0m\n\u001b[0m\u001b[1;32m    628\u001b[0m     \u001b[0;32melse\u001b[0m\u001b[0;34m:\u001b[0m\u001b[0;34m\u001b[0m\u001b[0;34m\u001b[0m\u001b[0m\n\u001b[1;32m    629\u001b[0m       \u001b[0mself\u001b[0m\u001b[0;34m.\u001b[0m\u001b[0m_register_gradient\u001b[0m\u001b[0;34m(\u001b[0m\u001b[0;34m)\u001b[0m\u001b[0;34m\u001b[0m\u001b[0;34m\u001b[0m\u001b[0m\n",
      "\u001b[0;32m~/.virtualenvs/YOLO/lib/python3.6/site-packages/tensorflow/python/eager/function.py\u001b[0m in \u001b[0;36mcall\u001b[0;34m(self, ctx, args)\u001b[0m\n\u001b[1;32m    413\u001b[0m             attrs=(\"executor_type\", executor_type,\n\u001b[1;32m    414\u001b[0m                    \"config_proto\", config),\n\u001b[0;32m--> 415\u001b[0;31m             ctx=ctx)\n\u001b[0m\u001b[1;32m    416\u001b[0m       \u001b[0;31m# Replace empty list with None\u001b[0m\u001b[0;34m\u001b[0m\u001b[0;34m\u001b[0m\u001b[0;34m\u001b[0m\u001b[0m\n\u001b[1;32m    417\u001b[0m       \u001b[0moutputs\u001b[0m \u001b[0;34m=\u001b[0m \u001b[0moutputs\u001b[0m \u001b[0;32mor\u001b[0m \u001b[0;32mNone\u001b[0m\u001b[0;34m\u001b[0m\u001b[0;34m\u001b[0m\u001b[0m\n",
      "\u001b[0;32m~/.virtualenvs/YOLO/lib/python3.6/site-packages/tensorflow/python/eager/execute.py\u001b[0m in \u001b[0;36mquick_execute\u001b[0;34m(op_name, num_outputs, inputs, attrs, ctx, name)\u001b[0m\n\u001b[1;32m     58\u001b[0m     tensors = pywrap_tensorflow.TFE_Py_Execute(ctx._handle, device_name,\n\u001b[1;32m     59\u001b[0m                                                \u001b[0mop_name\u001b[0m\u001b[0;34m,\u001b[0m \u001b[0minputs\u001b[0m\u001b[0;34m,\u001b[0m \u001b[0mattrs\u001b[0m\u001b[0;34m,\u001b[0m\u001b[0;34m\u001b[0m\u001b[0;34m\u001b[0m\u001b[0m\n\u001b[0;32m---> 60\u001b[0;31m                                                num_outputs)\n\u001b[0m\u001b[1;32m     61\u001b[0m   \u001b[0;32mexcept\u001b[0m \u001b[0mcore\u001b[0m\u001b[0;34m.\u001b[0m\u001b[0m_NotOkStatusException\u001b[0m \u001b[0;32mas\u001b[0m \u001b[0me\u001b[0m\u001b[0;34m:\u001b[0m\u001b[0;34m\u001b[0m\u001b[0;34m\u001b[0m\u001b[0m\n\u001b[1;32m     62\u001b[0m     \u001b[0;32mif\u001b[0m \u001b[0mname\u001b[0m \u001b[0;32mis\u001b[0m \u001b[0;32mnot\u001b[0m \u001b[0;32mNone\u001b[0m\u001b[0;34m:\u001b[0m\u001b[0;34m\u001b[0m\u001b[0;34m\u001b[0m\u001b[0m\n",
      "\u001b[0;31mKeyboardInterrupt\u001b[0m: "
     ]
    }
   ],
   "source": [
    "autoencoder_train = autoencoder.fit(train_X, train_ground, batch_size=batch_size,epochs=epochs,verbose=1,validation_data=(valid_X, valid_ground))"
   ]
  },
  {
   "cell_type": "code",
   "execution_count": 120,
   "metadata": {},
   "outputs": [],
   "source": [
    "def autoencoder(input_img):\n",
    "    #encoder\n",
    "    #input = 784*1\n",
    "    fc1 = Dense(256, activation='relu', kernel_regularizer=regularizers.l2(1e-4))(input_img) # images*256\n",
    "#     do1 = Dropout(0.25)(fc1)\n",
    "    fc2 = Dense(128, activation='relu', kernel_regularizer=regularizers.l2(1e-4))(fc1)\n",
    "    bn1 = BatchNormalization()(fc2)\n",
    "    fc3 = Dense(64)(bn1)\n",
    "    \n",
    "    # decoder\n",
    "    fc4 = Dense(64, activation='relu', kernel_regularizer=regularizers.l2(1e-4))(bn1)\n",
    "    fc5 = Dense(128, activation='relu', kernel_regularizer=regularizers.l2(1e-4))(fc4)\n",
    "#     do2 = Dropout(0.25)(fc5)\n",
    "    bn2 = BatchNormalization()(fc5)\n",
    "    decoded = Dense(784, activation='relu', kernel_regularizer=regularizers.l2(0.01))(bn2)\n",
    "    \n",
    "    return decoded"
   ]
  },
  {
   "cell_type": "code",
   "execution_count": 121,
   "metadata": {},
   "outputs": [],
   "source": [
    "(train_data, train_label), (test_data, test_label) = keras.datasets.mnist.load_data()"
   ]
  },
  {
   "cell_type": "code",
   "execution_count": 122,
   "metadata": {},
   "outputs": [
    {
     "data": {
      "text/plain": [
       "784"
      ]
     },
     "execution_count": 122,
     "metadata": {},
     "output_type": "execute_result"
    }
   ],
   "source": [
    "np.prod(train_data.shape[1:])"
   ]
  },
  {
   "cell_type": "code",
   "execution_count": 123,
   "metadata": {},
   "outputs": [],
   "source": [
    "train_data = np.reshape(train_data, [-1, np.prod(train_data.shape[1:])])\n",
    "test_data = np.reshape(test_data, [-1, np.prod(train_data.shape[1:])])\n",
    "train_data = train_data.astype('float32') / 255\n",
    "test_data = test_data.astype('float32') / 255"
   ]
  },
  {
   "cell_type": "code",
   "execution_count": 124,
   "metadata": {},
   "outputs": [],
   "source": [
    "batch_size = 50\n",
    "epochs = 50\n",
    "inChannel = 1\n",
    "x, y = 28, 28\n",
    "input_img = Input(shape = (784,))"
   ]
  },
  {
   "cell_type": "code",
   "execution_count": 125,
   "metadata": {},
   "outputs": [],
   "source": [
    "autoencoder = Model(input_img, autoencoder(input_img))\n",
    "autoencoder.compile(loss='mse', optimizer = 'adam')"
   ]
  },
  {
   "cell_type": "code",
   "execution_count": 126,
   "metadata": {},
   "outputs": [
    {
     "name": "stdout",
     "output_type": "stream",
     "text": [
      "Model: \"model_9\"\n",
      "_________________________________________________________________\n",
      "Layer (type)                 Output Shape              Param #   \n",
      "=================================================================\n",
      "input_9 (InputLayer)         [(None, 784)]             0         \n",
      "_________________________________________________________________\n",
      "dense_46 (Dense)             (None, 256)               200960    \n",
      "_________________________________________________________________\n",
      "dense_47 (Dense)             (None, 128)               32896     \n",
      "_________________________________________________________________\n",
      "batch_normalization_v2_17 (B (None, 128)               512       \n",
      "_________________________________________________________________\n",
      "dense_49 (Dense)             (None, 64)                8256      \n",
      "_________________________________________________________________\n",
      "dense_50 (Dense)             (None, 128)               8320      \n",
      "_________________________________________________________________\n",
      "batch_normalization_v2_18 (B (None, 128)               512       \n",
      "_________________________________________________________________\n",
      "dense_51 (Dense)             (None, 784)               101136    \n",
      "=================================================================\n",
      "Total params: 352,592\n",
      "Trainable params: 352,080\n",
      "Non-trainable params: 512\n",
      "_________________________________________________________________\n"
     ]
    }
   ],
   "source": [
    "autoencoder.summary()"
   ]
  },
  {
   "cell_type": "code",
   "execution_count": 127,
   "metadata": {
    "scrolled": true
   },
   "outputs": [
    {
     "name": "stdout",
     "output_type": "stream",
     "text": [
      "Train on 60000 samples, validate on 10000 samples\n",
      "Epoch 1/50\n",
      "60000/60000 [==============================] - 9s 157us/sample - loss: 0.1068 - val_loss: 0.0410\n",
      "Epoch 2/50\n",
      "60000/60000 [==============================] - 9s 147us/sample - loss: 0.0397 - val_loss: 0.0373\n",
      "Epoch 3/50\n",
      "60000/60000 [==============================] - 9s 147us/sample - loss: 0.0365 - val_loss: 0.0347\n",
      "Epoch 4/50\n",
      "60000/60000 [==============================] - 9s 148us/sample - loss: 0.0345 - val_loss: 0.0329\n",
      "Epoch 5/50\n",
      "60000/60000 [==============================] - 9s 149us/sample - loss: 0.0329 - val_loss: 0.0317\n",
      "Epoch 6/50\n",
      "60000/60000 [==============================] - 13s 218us/sample - loss: 0.0312 - val_loss: 0.0329\n",
      "Epoch 7/50\n",
      "60000/60000 [==============================] - 13s 222us/sample - loss: 0.0297 - val_loss: 0.0285\n",
      "Epoch 8/50\n",
      "60000/60000 [==============================] - 13s 215us/sample - loss: 0.0284 - val_loss: 0.0276\n",
      "Epoch 9/50\n",
      "60000/60000 [==============================] - 11s 175us/sample - loss: 0.0275 - val_loss: 0.0274\n",
      "Epoch 10/50\n",
      "60000/60000 [==============================] - 12s 207us/sample - loss: 0.0271 - val_loss: 0.0276\n",
      "Epoch 11/50\n",
      "60000/60000 [==============================] - 10s 164us/sample - loss: 0.0268 - val_loss: 0.0275\n",
      "Epoch 12/50\n",
      "60000/60000 [==============================] - 13s 209us/sample - loss: 0.0266 - val_loss: 0.0291\n",
      "Epoch 13/50\n",
      "60000/60000 [==============================] - 10s 160us/sample - loss: 0.0263 - val_loss: 0.0266\n",
      "Epoch 14/50\n",
      "60000/60000 [==============================] - 8s 129us/sample - loss: 0.0262 - val_loss: 0.0268\n",
      "Epoch 15/50\n",
      "60000/60000 [==============================] - 7s 123us/sample - loss: 0.0260 - val_loss: 0.0258\n",
      "Epoch 16/50\n",
      "60000/60000 [==============================] - 8s 131us/sample - loss: 0.0257 - val_loss: 0.0257\n",
      "Epoch 17/50\n",
      "60000/60000 [==============================] - 11s 187us/sample - loss: 0.0252 - val_loss: 0.0245\n",
      "Epoch 18/50\n",
      "60000/60000 [==============================] - 9s 143us/sample - loss: 0.0251 - val_loss: 0.0274\n",
      "Epoch 19/50\n",
      "60000/60000 [==============================] - 10s 171us/sample - loss: 0.0249 - val_loss: 0.0247\n",
      "Epoch 20/50\n",
      "60000/60000 [==============================] - 9s 155us/sample - loss: 0.0247 - val_loss: 0.0246\n",
      "Epoch 21/50\n",
      "60000/60000 [==============================] - 9s 157us/sample - loss: 0.0246 - val_loss: 0.0249\n",
      "Epoch 22/50\n",
      "60000/60000 [==============================] - 8s 139us/sample - loss: 0.0245 - val_loss: 0.0272\n",
      "Epoch 23/50\n",
      "60000/60000 [==============================] - 7s 119us/sample - loss: 0.0244 - val_loss: 0.0250\n",
      "Epoch 24/50\n",
      "60000/60000 [==============================] - 9s 152us/sample - loss: 0.0243 - val_loss: 0.0242\n",
      "Epoch 25/50\n",
      "60000/60000 [==============================] - 11s 187us/sample - loss: 0.0243 - val_loss: 0.0237\n",
      "Epoch 26/50\n",
      "60000/60000 [==============================] - 15s 249us/sample - loss: 0.0242 - val_loss: 0.0251\n",
      "Epoch 27/50\n",
      "60000/60000 [==============================] - 13s 210us/sample - loss: 0.0241 - val_loss: 0.0233\n",
      "Epoch 28/50\n",
      "60000/60000 [==============================] - 14s 238us/sample - loss: 0.0241 - val_loss: 0.0241\n",
      "Epoch 29/50\n",
      "60000/60000 [==============================] - 14s 237us/sample - loss: 0.0237 - val_loss: 0.0253\n",
      "Epoch 30/50\n",
      "60000/60000 [==============================] - 13s 221us/sample - loss: 0.0236 - val_loss: 0.0233\n",
      "Epoch 31/50\n",
      "60000/60000 [==============================] - 14s 234us/sample - loss: 0.0235 - val_loss: 0.0238\n",
      "Epoch 32/50\n",
      "60000/60000 [==============================] - 15s 245us/sample - loss: 0.0234 - val_loss: 0.0235\n",
      "Epoch 33/50\n",
      "60000/60000 [==============================] - 15s 256us/sample - loss: 0.0234 - val_loss: 0.0227\n",
      "Epoch 34/50\n",
      "60000/60000 [==============================] - 14s 234us/sample - loss: 0.0233 - val_loss: 0.0234\n",
      "Epoch 35/50\n",
      "60000/60000 [==============================] - 14s 230us/sample - loss: 0.0233 - val_loss: 0.0234\n",
      "Epoch 36/50\n",
      "60000/60000 [==============================] - 14s 232us/sample - loss: 0.0233 - val_loss: 0.0240\n",
      "Epoch 37/50\n",
      "60000/60000 [==============================] - 14s 231us/sample - loss: 0.0232 - val_loss: 0.0229\n",
      "Epoch 38/50\n",
      "60000/60000 [==============================] - 14s 226us/sample - loss: 0.0231 - val_loss: 0.0230\n",
      "Epoch 39/50\n",
      "60000/60000 [==============================] - 13s 220us/sample - loss: 0.0232 - val_loss: 0.0233\n",
      "Epoch 40/50\n",
      "60000/60000 [==============================] - 14s 230us/sample - loss: 0.0231 - val_loss: 0.0230\n",
      "Epoch 41/50\n",
      "60000/60000 [==============================] - 14s 231us/sample - loss: 0.0231 - val_loss: 0.0232\n",
      "Epoch 42/50\n",
      "60000/60000 [==============================] - 14s 228us/sample - loss: 0.0231 - val_loss: 0.0231\n",
      "Epoch 43/50\n",
      "60000/60000 [==============================] - 13s 216us/sample - loss: 0.0231 - val_loss: 0.0231\n",
      "Epoch 44/50\n",
      "60000/60000 [==============================] - 14s 231us/sample - loss: 0.0230 - val_loss: 0.0238\n",
      "Epoch 45/50\n",
      "60000/60000 [==============================] - 14s 231us/sample - loss: 0.0230 - val_loss: 0.0231\n",
      "Epoch 46/50\n",
      "60000/60000 [==============================] - 14s 232us/sample - loss: 0.0230 - val_loss: 0.0225\n",
      "Epoch 47/50\n",
      "60000/60000 [==============================] - 13s 224us/sample - loss: 0.0229 - val_loss: 0.0236\n",
      "Epoch 48/50\n",
      "60000/60000 [==============================] - 14s 235us/sample - loss: 0.0229 - val_loss: 0.0225\n",
      "Epoch 49/50\n",
      "60000/60000 [==============================] - 13s 215us/sample - loss: 0.0229 - val_loss: 0.0226\n",
      "Epoch 50/50\n",
      "60000/60000 [==============================] - 13s 220us/sample - loss: 0.0229 - val_loss: 0.0239\n"
     ]
    }
   ],
   "source": [
    "autoencoder_train = autoencoder.fit(train_data, train_data, \n",
    "                                    batch_size=batch_size,epochs=epochs,verbose=1, shuffle=True,\n",
    "                                    validation_data=(test_data, test_data))"
   ]
  },
  {
   "cell_type": "code",
   "execution_count": 128,
   "metadata": {},
   "outputs": [
    {
     "data": {
      "image/png": "[encoded data removed]",
      "text/plain": [
       "<Figure size 432x288 with 1 Axes>"
      ]
     },
     "metadata": {
      "needs_background": "light"
     },
     "output_type": "display_data"
    }
   ],
   "source": [
    "loss = autoencoder_train.history['loss']\n",
    "val_loss = autoencoder_train.history['val_loss']\n",
    "epochs_ = range(epochs)\n",
    "plt.figure()\n",
    "plt.plot(epochs_, loss, 'bo', label='Training loss')\n",
    "plt.plot(epochs_, val_loss, 'b', label='Validation loss')\n",
    "plt.title('Training and validation loss')\n",
    "plt.legend()\n",
    "plt.show()"
   ]
  },
  {
   "cell_type": "code",
   "execution_count": 129,
   "metadata": {},
   "outputs": [],
   "source": [
    "pred = autoencoder.predict(test_data)"
   ]
  },
  {
   "cell_type": "code",
   "execution_count": 130,
   "metadata": {},
   "outputs": [
    {
     "data": {
      "text/plain": [
       "(784,)"
      ]
     },
     "execution_count": 130,
     "metadata": {},
     "output_type": "execute_result"
    }
   ],
   "source": [
    "pred[0].shape"
   ]
  },
  {
   "cell_type": "code",
   "execution_count": 131,
   "metadata": {},
   "outputs": [
    {
     "data": {
      "text/plain": [
       "<matplotlib.image.AxesImage at 0x7f79f5b1d4a8>"
      ]
     },
     "execution_count": 131,
     "metadata": {},
     "output_type": "execute_result"
    },
    {
     "data": {
      "image/png": "[encoded data removed]",
      "text/plain": [
       "<Figure size 432x288 with 1 Axes>"
      ]
     },
     "metadata": {
      "needs_background": "light"
     },
     "output_type": "display_data"
    }
   ],
   "source": [
    "plt.imshow(pred[99].reshape(28,28))"
   ]
  },
  {
   "cell_type": "code",
   "execution_count": 132,
   "metadata": {},
   "outputs": [
    {
     "name": "stdout",
     "output_type": "stream",
     "text": [
      "Test Images\n"
     ]
    },
    {
     "data": {
      "image/png": "[encoded data removed]",
      "text/plain": [
       "<Figure size 1440x288 with 10 Axes>"
      ]
     },
     "metadata": {
      "needs_background": "light"
     },
     "output_type": "display_data"
    },
    {
     "name": "stdout",
     "output_type": "stream",
     "text": [
      "Reconstruction of Test Images\n"
     ]
    },
    {
     "data": {
      "image/png": "[encoded data removed]",
      "text/plain": [
       "<Figure size 1440x288 with 10 Axes>"
      ]
     },
     "metadata": {
      "needs_background": "light"
     },
     "output_type": "display_data"
    }
   ],
   "source": [
    "plt.figure(figsize=(20, 4))\n",
    "print(\"Test Images\")\n",
    "for i in range(10):\n",
    "    plt.subplot(2, 10, i+1)\n",
    "    plt.imshow(test_data[i+100].reshape(28,28), cmap='gray')\n",
    "plt.show()    \n",
    "plt.figure(figsize=(20, 4))\n",
    "print(\"Reconstruction of Test Images\")\n",
    "for i in range(10):\n",
    "    plt.subplot(2, 10, i+1)\n",
    "    plt.imshow(pred[i+100].reshape(28,28), cmap='gray')  \n",
    "plt.show()"
   ]
  },
  {
   "cell_type": "code",
   "execution_count": 160,
   "metadata": {},
   "outputs": [],
   "source": [
    "def conv_autoencoder(input_img):\n",
    "    c1 = Conv2D(32, (3,3), activation='relu', padding='same')(input_img)\n",
    "    mp1 = MaxPooling2D((2, 2), padding='same')(c1)\n",
    "    c2 = Conv2D(16, (3,3), activation='relu', padding='same')(mp1)\n",
    "    mp2 = MaxPooling2D((2, 2), padding='same')(c2)\n",
    "    c3 = Conv2D(16, (3,3), activation='relu', padding='same')(mp2)\n",
    "    encoded = MaxPooling2D((2,2), padding='same')(c3)\n",
    "    \n",
    "    # at this point the representation is (4, 4, 8) i.e. 128-dimensional\n",
    "    c4 = Conv2D(16, (3, 3), activation='relu', padding='same')(encoded)\n",
    "    up1 = UpSampling2D((2, 2))(c4)\n",
    "    c5 = Conv2D(16, (3, 3), activation='relu', padding='same')(up1)\n",
    "    up2 = UpSampling2D((2, 2))(c5)\n",
    "    c6 = Conv2D(32, (3, 3), activation='relu')(up2)\n",
    "    up3 = UpSampling2D((2, 2))(c6)\n",
    "    decoded = Conv2D(1, (3, 3), activation='sigmoid', padding='same')(up3)\n",
    "    \n",
    "    return decoded"
   ]
  },
  {
   "cell_type": "code",
   "execution_count": 161,
   "metadata": {},
   "outputs": [],
   "source": [
    "(train_data, train_label), (test_data, test_label) = keras.datasets.mnist.load_data()"
   ]
  },
  {
   "cell_type": "code",
   "execution_count": 162,
   "metadata": {},
   "outputs": [
    {
     "data": {
      "text/plain": [
       "(60000, 28, 28)"
      ]
     },
     "execution_count": 162,
     "metadata": {},
     "output_type": "execute_result"
    }
   ],
   "source": [
    "train_data.shape"
   ]
  },
  {
   "cell_type": "code",
   "execution_count": 163,
   "metadata": {},
   "outputs": [],
   "source": [
    "train_data = train_data.astype('float32') / 255.\n",
    "test_data = test_data.astype('float32') / 255.\n",
    "train_data = np.reshape(train_data, (len(train_data), 28, 28, 1))  # adapt this if using `channels_first` image data format\n",
    "test_data = np.reshape(test_data, (len(test_data), 28, 28, 1))  # adapt this if using `channels_first` image data format"
   ]
  },
  {
   "cell_type": "code",
   "execution_count": 164,
   "metadata": {},
   "outputs": [],
   "source": [
    "batch_size = 128\n",
    "epochs = 10\n",
    "inChannel = 1\n",
    "x, y = 28, 28\n",
    "input_img = Input(shape = (x, y, inChannel))"
   ]
  },
  {
   "cell_type": "code",
   "execution_count": 165,
   "metadata": {},
   "outputs": [],
   "source": [
    "autoencoder = Model(input_img, conv_autoencoder(input_img))\n",
    "autoencoder.compile(loss='mse', optimizer = 'adam')"
   ]
  },
  {
   "cell_type": "code",
   "execution_count": 166,
   "metadata": {},
   "outputs": [
    {
     "name": "stdout",
     "output_type": "stream",
     "text": [
      "Model: \"model_11\"\n",
      "_________________________________________________________________\n",
      "Layer (type)                 Output Shape              Param #   \n",
      "=================================================================\n",
      "input_12 (InputLayer)        [(None, 28, 28, 1)]       0         \n",
      "_________________________________________________________________\n",
      "conv2d_7 (Conv2D)            (None, 28, 28, 32)        320       \n",
      "_________________________________________________________________\n",
      "max_pooling2d_3 (MaxPooling2 (None, 14, 14, 32)        0         \n",
      "_________________________________________________________________\n",
      "conv2d_8 (Conv2D)            (None, 14, 14, 16)        4624      \n",
      "_________________________________________________________________\n",
      "max_pooling2d_4 (MaxPooling2 (None, 7, 7, 16)          0         \n",
      "_________________________________________________________________\n",
      "conv2d_9 (Conv2D)            (None, 7, 7, 16)          2320      \n",
      "_________________________________________________________________\n",
      "max_pooling2d_5 (MaxPooling2 (None, 4, 4, 16)          0         \n",
      "_________________________________________________________________\n",
      "conv2d_10 (Conv2D)           (None, 4, 4, 16)          2320      \n",
      "_________________________________________________________________\n",
      "up_sampling2d_3 (UpSampling2 (None, 8, 8, 16)          0         \n",
      "_________________________________________________________________\n",
      "conv2d_11 (Conv2D)           (None, 8, 8, 16)          2320      \n",
      "_________________________________________________________________\n",
      "up_sampling2d_4 (UpSampling2 (None, 16, 16, 16)        0         \n",
      "_________________________________________________________________\n",
      "conv2d_12 (Conv2D)           (None, 14, 14, 32)        4640      \n",
      "_________________________________________________________________\n",
      "up_sampling2d_5 (UpSampling2 (None, 28, 28, 32)        0         \n",
      "_________________________________________________________________\n",
      "conv2d_13 (Conv2D)           (None, 28, 28, 1)         289       \n",
      "=================================================================\n",
      "Total params: 16,833\n",
      "Trainable params: 16,833\n",
      "Non-trainable params: 0\n",
      "_________________________________________________________________\n"
     ]
    }
   ],
   "source": [
    "autoencoder.summary()"
   ]
  },
  {
   "cell_type": "code",
   "execution_count": 167,
   "metadata": {},
   "outputs": [
    {
     "name": "stdout",
     "output_type": "stream",
     "text": [
      "Train on 60000 samples, validate on 10000 samples\n",
      "Epoch 1/10\n",
      "60000/60000 [==============================] - 113s 2ms/sample - loss: 0.1153 - val_loss: 0.1140\n",
      "Epoch 2/10\n",
      "60000/60000 [==============================] - 112s 2ms/sample - loss: 0.1120 - val_loss: 0.1140\n",
      "Epoch 3/10\n",
      "60000/60000 [==============================] - 117s 2ms/sample - loss: 0.1120 - val_loss: 0.1140\n",
      "Epoch 4/10\n",
      "60000/60000 [==============================] - 145s 2ms/sample - loss: 0.1120 - val_loss: 0.1140\n",
      "Epoch 5/10\n",
      "60000/60000 [==============================] - 103s 2ms/sample - loss: 0.1120 - val_loss: 0.1140\n",
      "Epoch 6/10\n",
      "60000/60000 [==============================] - 86s 1ms/sample - loss: 0.1120 - val_loss: 0.1140\n",
      "Epoch 7/10\n",
      "60000/60000 [==============================] - 87s 1ms/sample - loss: 0.1120 - val_loss: 0.1140\n",
      "Epoch 8/10\n",
      "60000/60000 [==============================] - 86s 1ms/sample - loss: 0.1120 - val_loss: 0.1140\n",
      "Epoch 9/10\n",
      "60000/60000 [==============================] - 86s 1ms/sample - loss: 0.1120 - val_loss: 0.1140\n",
      "Epoch 10/10\n",
      "60000/60000 [==============================] - 89s 1ms/sample - loss: 0.1120 - val_loss: 0.1140\n"
     ]
    },
    {
     "data": {
      "text/plain": [
       "<tensorflow.python.keras.callbacks.History at 0x7f79ef823a58>"
      ]
     },
     "execution_count": 167,
     "metadata": {},
     "output_type": "execute_result"
    }
   ],
   "source": [
    "from tensorflow.keras.callbacks import TensorBoard\n",
    "\n",
    "autoencoder.fit(train_data, train_data,\n",
    "                epochs=10,\n",
    "                batch_size=128,\n",
    "                shuffle=True,\n",
    "                validation_data=(test_data, test_data),\n",
    "                callbacks=[TensorBoard(log_dir='/tmp/autoencoder')])"
   ]
  },
  {
   "cell_type": "code",
   "execution_count": 154,
   "metadata": {},
   "outputs": [],
   "source": [
    "decoded_imgs = autoencoder.predict(test_data)"
   ]
  },
  {
   "cell_type": "code",
   "execution_count": 155,
   "metadata": {},
   "outputs": [
    {
     "data": {
      "text/plain": [
       "(10000, 28, 28, 1)"
      ]
     },
     "execution_count": 155,
     "metadata": {},
     "output_type": "execute_result"
    }
   ],
   "source": [
    "decoded_imgs.shape"
   ]
  },
  {
   "cell_type": "code",
   "execution_count": 158,
   "metadata": {},
   "outputs": [
    {
     "data": {
      "text/plain": [
       "<matplotlib.image.AxesImage at 0x7f79ef6b0a58>"
      ]
     },
     "execution_count": 158,
     "metadata": {},
     "output_type": "execute_result"
    },
    {
     "data": {
      "image/png": "[encoded data removed]",
      "text/plain": [
       "<Figure size 432x288 with 1 Axes>"
      ]
     },
     "metadata": {
      "needs_background": "light"
     },
     "output_type": "display_data"
    }
   ],
   "source": [
    "plt.imshow(decoded_imgs[1].reshape(28, 28))"
   ]
  },
  {
   "cell_type": "code",
   "execution_count": 159,
   "metadata": {},
   "outputs": [
    {
     "name": "stdout",
     "output_type": "stream",
     "text": [
      "Test Images\n"
     ]
    },
    {
     "data": {
      "image/png": "[encoded data removed]",
      "text/plain": [
       "<Figure size 1440x288 with 10 Axes>"
      ]
     },
     "metadata": {
      "needs_background": "light"
     },
     "output_type": "display_data"
    },
    {
     "name": "stdout",
     "output_type": "stream",
     "text": [
      "Reconstruction of Test Images\n"
     ]
    },
    {
     "data": {
      "image/png": "[encoded data removed]",
      "text/plain": [
       "<Figure size 1440x288 with 10 Axes>"
      ]
     },
     "metadata": {
      "needs_background": "light"
     },
     "output_type": "display_data"
    }
   ],
   "source": [
    "plt.figure(figsize=(20, 4))\n",
    "print(\"Test Images\")\n",
    "for i in range(10):\n",
    "    plt.subplot(2, 10, i+1)\n",
    "    plt.imshow(test_data[i+100].reshape(28,28), cmap='gray')\n",
    "plt.show()    \n",
    "plt.figure(figsize=(20, 4))\n",
    "print(\"Reconstruction of Test Images\")\n",
    "for i in range(10):\n",
    "    plt.subplot(2, 10, i+1)\n",
    "    plt.imshow(decoded_imgs[i+100].reshape(28,28), cmap='gray')  \n",
    "plt.show()"
   ]
  },
  {
   "cell_type": "code",
   "execution_count": null,
   "metadata": {},
   "outputs": [],
   "source": []
  }
 ],
 "metadata": {
  "kernelspec": {
   "display_name": "YOLO",
   "language": "python",
   "name": "yolo"
  },
  "language_info": {
   "codemirror_mode": {
    "name": "ipython",
    "version": 3
   },
   "file_extension": ".py",
   "mimetype": "text/x-python",
   "name": "python",
   "nbconvert_exporter": "python",
   "pygments_lexer": "ipython3",
   "version": "3.6.9"
  }
 },
 "nbformat": 4,
 "nbformat_minor": 4
}
